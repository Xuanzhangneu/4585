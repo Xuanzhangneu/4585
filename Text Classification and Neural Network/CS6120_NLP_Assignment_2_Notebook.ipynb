{
 "cells": [
  {
   "cell_type": "markdown",
   "metadata": {
    "id": "ni4T_dwEHFVa"
   },
   "source": [
    "## CS 6120: Natural Language Processing - Prof. Ahmad Uzair\n",
    "\n",
    "### Assignment 2: Text Classification and Neural Network\n",
    "### Total Points: 100 points"
   ]
  },
  {
   "cell_type": "markdown",
   "metadata": {
    "id": "loQ22M-bCubq"
   },
   "source": [
    "In Assignment 2, you will be dealing with text classification using Multinomial Naive Bayes and Neural Networks. You will also be dealing with vector visualization. In the previous assingment you implemented Bag of Words as the feature selection method. However, in this assignment you will be using TF-IDF Vectorization instead of Bag of Words. We recommend starting with this assignment a little early as the datasets are quite large and several parts of the assignment might take long duration to execute. "
   ]
  },
  {
   "cell_type": "markdown",
   "metadata": {
    "id": "Q3brglC1C0mZ"
   },
   "source": [
    "## Question 1 Text Classification"
   ]
  },
  {
   "cell_type": "markdown",
   "metadata": {
    "id": "IZ1y75IoC3rE"
   },
   "source": [
    "In the first question you will be dealing with 20 News Group Dataset. You are required to implement TF-IDF vectorization from scratch and perform Multinomial Naive Bayes Classification on the News Group Dataset.\n",
    "You may use appropriate packages or modules for fitting the Multinomial Naive Bayes Model, however, the implementation of the TF-IDF Vectorization should be from the scratch."
   ]
  },
  {
   "cell_type": "markdown",
   "metadata": {
    "id": "yRjM45PyC8ML"
   },
   "source": [
    "The 20 newsgroups dataset comprises around 18000 newsgroups posts on 20 topics split in two subsets: one for training (or development) and the other one for testing (or for performance evaluation). The split between the train and test set is based upon a messages posted before and after a specific date.\n",
    "\n",
    "Link to the original dataset: http://archive.ics.uci.edu/ml/datasets/Twenty+Newsgroups\n",
    "\n",
    "You can also import the dataset from sklearn.datasets"
   ]
  },
  {
   "cell_type": "code",
   "execution_count": 8,
   "metadata": {
    "id": "CmFf2INNDJRb"
   },
   "outputs": [],
   "source": [
    "#importing the libraries\n",
    "\n",
    "import numpy as np\n",
    "import sklearn\n",
    "from sklearn.feature_extraction.text import TfidfVectorizer\n",
    "from sklearn.datasets import fetch_20newsgroups\n",
    "from pprint import pprint\n",
    "from sklearn.feature_extraction.text import CountVectorizer\n",
    "from sklearn import preprocessing\n",
    "import pandas as pd\n",
    "import re\n",
    "import numpy as np\n",
    "from nltk.tokenize import  word_tokenize \n",
    "import nltk\n",
    "from sklearn.naive_bayes import MultinomialNB\n",
    "from sklearn import metrics\n"
   ]
  },
  {
   "cell_type": "code",
   "execution_count": 2,
   "metadata": {
    "id": "AEp1SHe5DKCB"
   },
   "outputs": [],
   "source": [
    "# Import the 20 news group dataset utilizing sklearn library\n",
    "from sklearn.datasets import fetch_20newsgroups\n",
    "mydata_train = fetch_20newsgroups(subset='train')\n",
    "\n",
    "mydata_test = fetch_20newsgroups(subset='test')\n"
   ]
  },
  {
   "cell_type": "code",
   "execution_count": 3,
   "metadata": {
    "id": "OscOmcE0DMHa"
   },
   "outputs": [
    {
     "name": "stdout",
     "output_type": "stream",
     "text": [
      "['alt.atheism',\n",
      " 'comp.graphics',\n",
      " 'comp.os.ms-windows.misc',\n",
      " 'comp.sys.ibm.pc.hardware',\n",
      " 'comp.sys.mac.hardware',\n",
      " 'comp.windows.x',\n",
      " 'misc.forsale',\n",
      " 'rec.autos',\n",
      " 'rec.motorcycles',\n",
      " 'rec.sport.baseball',\n",
      " 'rec.sport.hockey',\n",
      " 'sci.crypt',\n",
      " 'sci.electronics',\n",
      " 'sci.med',\n",
      " 'sci.space',\n",
      " 'soc.religion.christian',\n",
      " 'talk.politics.guns',\n",
      " 'talk.politics.mideast',\n",
      " 'talk.politics.misc',\n",
      " 'talk.religion.misc']\n"
     ]
    }
   ],
   "source": [
    "# Print the news groups(target) in the dataset\n",
    "\n",
    "pprint(list(mydata_train.target_names))"
   ]
  },
  {
   "cell_type": "code",
   "execution_count": 4,
   "metadata": {
    "id": "JvQb2r0aDR_J"
   },
   "outputs": [
    {
     "name": "stdout",
     "output_type": "stream",
     "text": [
      "<class 'sklearn.utils.Bunch'>\n",
      "<class 'sklearn.utils.Bunch'>\n"
     ]
    }
   ],
   "source": [
    "# What is the type of 'mydata_train' and 'mydata_test'\n",
    "\n",
    "print(type(mydata_train))\n",
    "print(type(mydata_test))"
   ]
  },
  {
   "cell_type": "code",
   "execution_count": 5,
   "metadata": {
    "id": "ozzwyREhDaMK"
   },
   "outputs": [
    {
     "name": "stdout",
     "output_type": "stream",
     "text": [
      "11314\n",
      "11314\n",
      "7532\n",
      "7532\n"
     ]
    }
   ],
   "source": [
    "# Check the length of the data\n",
    "\n",
    "print(len(mydata_train.data))\n",
    "print(len(mydata_train.filenames))\n",
    "print(len(mydata_test.data))\n",
    "print(len(mydata_test.filenames))"
   ]
  },
  {
   "cell_type": "markdown",
   "metadata": {
    "id": "BlipMuEpDz-K"
   },
   "source": [
    "### Expected Output: \n",
    "11314\n",
    "\n",
    "11314\n",
    "\n",
    "7532\n",
    "\n",
    "7532"
   ]
  },
  {
   "cell_type": "markdown",
   "metadata": {
    "id": "55FKOBBuEDI2"
   },
   "source": [
    "## Extracting Features from the Dataset                        (20 Points)"
   ]
  },
  {
   "cell_type": "markdown",
   "metadata": {
    "id": "u4GDENzmEEkG"
   },
   "source": [
    "In order to perform machine learning on text documents, we first need to turn the text content into numerical feature vectors."
   ]
  },
  {
   "cell_type": "markdown",
   "metadata": {
    "id": "OgxfDXmxEHid"
   },
   "source": [
    "### TF-IDF Vectorization"
   ]
  },
  {
   "cell_type": "markdown",
   "metadata": {
    "id": "Q8qNFFYyEKsa"
   },
   "source": [
    "Our model cannot simply read the text data so we convert it into numerical format. In order to convert the data into numerical format we create vectors from text.\n",
    "\n",
    "For this particular purpose we could either employ Bag of Words or TF-IDF Vectorization\n",
    "\n",
    "Bag of Words just creates a set of vectors containing the count of word occurrences in the document (reviews), while the TF-IDF model contains information on the more important words and the less important ones as well.\n",
    "\n",
    "TF-IDF stands for Term Frequency-Inverse Document Frequency, which instead of giving more weight to words that occur more frequently, it gives a higher weight to words that occur less frequently.\n",
    "\n",
    "Ref:https://www.analyticsvidhya.com/blog/2020/02/quick-introduction-bag-of-words-bow-tf-idf/#:~:text=Bag%20of%20Words%20just%20creates,less%20important%20ones%20as%20well."
   ]
  },
  {
   "cell_type": "markdown",
   "metadata": {
    "id": "dLzgRJRZEP3k"
   },
   "source": [
    "TF-IDF = Term Frequency (TF) * Inverse Document Frequency (IDF)"
   ]
  },
  {
   "cell_type": "markdown",
   "metadata": {
    "id": "xe5lHi3NE1QJ"
   },
   "source": [
    "Term Frequency is the measure of the frequency of words in a document. It is the ratio of the number of times the word appears in a document compared to the total number of words in that document.\n",
    "\n",
    "The words that occur rarely in the corpus have a high IDF score. It is the log of the ratio of the number of documents to the number of documents containing the word."
   ]
  },
  {
   "cell_type": "markdown",
   "metadata": {
    "id": "HXotAER_EQ8T"
   },
   "source": [
    "idf(t) = log(N/(df + 1))"
   ]
  },
  {
   "cell_type": "code",
   "execution_count": 6,
   "metadata": {
    "id": "2vzVI8ylFAEl"
   },
   "outputs": [],
   "source": [
    "text = mydata_train.data\n",
    "test = mydata_test.data"
   ]
  },
  {
   "cell_type": "markdown",
   "metadata": {
    "id": "HZ2AatmvFtE-"
   },
   "source": [
    "## Preprocessing the Corpus"
   ]
  },
  {
   "cell_type": "code",
   "execution_count": 7,
   "metadata": {
    "id": "XyJbe42AFuHp"
   },
   "outputs": [],
   "source": [
    "# Preprocessing the data\n",
    "\n",
    "lines = [] \n",
    "word_list = [] \n",
    "\n",
    "for line in text[:]:\n",
    "    x = [i.lower() for  i in word_tokenize(line) if i.isalpha()]#for reduce size of tfidf matrix, I only choose words which only have alphabet letters (a-z), and change uppercase to lowercase \n",
    "    lines.append(x)#lines store tokens from line\n",
    "    for word in x:\n",
    "        if word not in word_list:#add word into word_list if this word is not in word_list\n",
    "            word_list.append(word)\n",
    "    #tokenize the text documents and update the lists word_list and lines\n",
    " \n",
    "\n",
    " # Make sure the word_list contains unique tokens\n",
    "word_list = set(word_list)\n",
    " \n",
    "# Calculate the total documents present in the corpus\n",
    "total_docs = len(lines)\n",
    " \n",
    "#Create a dictionary to keep track of index of each word\n",
    "dict_idx = {}\n",
    "i = 0\n",
    "for word in word_list:#the word_list contains unique tokens，the index of word_list are made as value in dict_idx, and words are made as key\n",
    "    dict_idx[word] = i\n",
    "    i += 1"
   ]
  },
  {
   "cell_type": "code",
   "execution_count": 8,
   "metadata": {
    "id": "E6M_CoI9FxYb"
   },
   "outputs": [],
   "source": [
    "# Create a frequency dictionary\n",
    " \n",
    "def frequency_dict(lines):\n",
    "    '''\n",
    "    lines: list containing all the tokens\n",
    "    ---\n",
    "    freq_word: returns a dictionary which keeps the count of the number of documents containing the given word\n",
    "    '''\n",
    "    freq_word = {}# set dict\n",
    "    for w in word_list:#if word is in word_list, we creat key and value for this word\n",
    "        freq_word[w] = 0# initial value is 0\n",
    "        for line in lines:\n",
    "            if w in line:\n",
    "                freq_word[w] += 1   #if this word in this line, add 1   \n",
    "    \n",
    "    return freq_word"
   ]
  },
  {
   "cell_type": "code",
   "execution_count": 9,
   "metadata": {
    "id": "qFkt9KBgFz43"
   },
   "outputs": [
    {
     "data": {
      "text/plain": [
       "{'scolding': 2,\n",
       " 'bat': 60,\n",
       " 'telecommuting': 2,\n",
       " 'meritt': 16,\n",
       " 'tcpdump': 1,\n",
       " 'flink': 2,\n",
       " 'wasington': 1,\n",
       " 'camino': 4,\n",
       " 'pseudo': 5,\n",
       " 'kingship': 2,\n",
       " 'chunk': 14,\n",
       " 'waite': 2,\n",
       " 'xtranslatecoordinates': 1,\n",
       " 'immeadiately': 1,\n",
       " 'ckctpa': 1,\n",
       " 'hoang': 2,\n",
       " 'kmak': 1,\n",
       " 'employee': 35,\n",
       " 'wawers': 1,\n",
       " 'hondo': 2,\n",
       " 'allen': 127,\n",
       " 'enjoyment': 11,\n",
       " 'punishments': 13,\n",
       " 'batkaj': 1,\n",
       " 'chars': 8,\n",
       " 'prl': 1,\n",
       " 'ntutaiwan': 1,\n",
       " 'photoreceptors': 1,\n",
       " 'billq': 8,\n",
       " 'tuchuses': 1,\n",
       " 'odom': 2,\n",
       " 'heatofmoment': 1,\n",
       " 'carpeting': 4,\n",
       " 'posner': 1,\n",
       " 'luminosity': 2,\n",
       " 'undeniably': 3,\n",
       " 'salvage': 6,\n",
       " 'conic': 1,\n",
       " 'hadith': 6,\n",
       " 'wrong': 802,\n",
       " 'jerome': 7,\n",
       " 'chiche': 1,\n",
       " 'vynal': 3,\n",
       " 'aniversary': 1,\n",
       " 'oberon': 1,\n",
       " 'caprices': 2,\n",
       " 'stubbs': 1,\n",
       " 'charming': 3,\n",
       " 'swanlake': 3,\n",
       " 'perceived': 26,\n",
       " 'firsthand': 3,\n",
       " 'dsr': 2,\n",
       " 'babble': 4,\n",
       " 'cpr': 67,\n",
       " 'iqz': 1,\n",
       " 'astrological': 1,\n",
       " 'asst': 6,\n",
       " 'ins': 9,\n",
       " 'spin': 33,\n",
       " 'sirius': 1,\n",
       " 'cowles': 1,\n",
       " 'compu': 3,\n",
       " 'gks': 7,\n",
       " 'annul': 1,\n",
       " 'historical': 128,\n",
       " 'titusville': 1,\n",
       " 'metaphysics': 9,\n",
       " 'discrediting': 7,\n",
       " 'freaks': 5,\n",
       " 'toplevelget': 1,\n",
       " 'slump': 14,\n",
       " 'atal': 2,\n",
       " 'withstanding': 4,\n",
       " 'poisons': 1,\n",
       " 'schonberger': 1,\n",
       " 'mlrdi': 1,\n",
       " 'accretieschijven': 1,\n",
       " 'pslv': 1,\n",
       " 'efficacy': 5,\n",
       " 'meaningfully': 2,\n",
       " 'urge': 25,\n",
       " 'nicoll': 8,\n",
       " 'missouri': 38,\n",
       " 'jschief': 3,\n",
       " 'stickers': 18,\n",
       " 'sackcloth': 2,\n",
       " 'extinctions': 1,\n",
       " 'interjection': 1,\n",
       " 'orig': 3,\n",
       " 'ramin': 1,\n",
       " 'hlu': 2,\n",
       " 'tjh': 1,\n",
       " 'declare': 38,\n",
       " 'hassag': 1,\n",
       " 'principled': 2,\n",
       " 'treked': 1,\n",
       " 'drove': 64,\n",
       " 'guests': 10,\n",
       " 'taxation': 10,\n",
       " 'koivu': 3,\n",
       " 'ghostbusters': 1,\n",
       " 'hillel': 4,\n",
       " 'oceanic': 2,\n",
       " 'diffcult': 1,\n",
       " 'lym': 1,\n",
       " 'kirnajznah': 1,\n",
       " 'infofile': 1,\n",
       " 'outlander': 1,\n",
       " 'cfmu': 3,\n",
       " 'auditee': 1,\n",
       " 'ift': 1,\n",
       " 'lobbyist': 3,\n",
       " 'xamine': 1,\n",
       " 'provost': 2,\n",
       " 'taxpayer': 7,\n",
       " 'quitbye': 3,\n",
       " 'iocomm': 2,\n",
       " 'clickart': 2,\n",
       " 'bearable': 2,\n",
       " 'coldest': 3,\n",
       " 'sacrament': 2,\n",
       " 'infirmities': 1,\n",
       " 'herron': 1,\n",
       " 'amusingly': 2,\n",
       " 'motherland': 1,\n",
       " 'amplified': 5,\n",
       " 'changeproperty': 1,\n",
       " 'modulation': 14,\n",
       " 'newstands': 1,\n",
       " 'hdsl': 1,\n",
       " 'cifically': 1,\n",
       " 'sns': 1,\n",
       " 'xmstringcharset': 1,\n",
       " 'qle': 1,\n",
       " 'continue': 246,\n",
       " 'kerrigan': 1,\n",
       " 'carelessness': 1,\n",
       " 'cooper': 20,\n",
       " 'absurdum': 4,\n",
       " 'tified': 1,\n",
       " 'numchildren': 1,\n",
       " 'acetylene': 2,\n",
       " 'smds': 1,\n",
       " 'supras': 2,\n",
       " 'spools': 1,\n",
       " 'oversamplings': 1,\n",
       " 'tabarraci': 2,\n",
       " 'campaigner': 1,\n",
       " 'conveying': 1,\n",
       " 'amv': 2,\n",
       " 'markings': 4,\n",
       " 'developments': 20,\n",
       " 'nwi': 2,\n",
       " 'asserts': 15,\n",
       " 'danno': 2,\n",
       " 'oqy': 5,\n",
       " 'turned': 212,\n",
       " 'whmurray': 2,\n",
       " 'christlikeness': 1,\n",
       " 'polling': 8,\n",
       " 'carring': 2,\n",
       " 'lookup': 6,\n",
       " 'grbs': 2,\n",
       " 'iam': 3,\n",
       " 'selectively': 14,\n",
       " 'trust': 195,\n",
       " 'irks': 1,\n",
       " 'panasonic': 26,\n",
       " 'kilbrde': 1,\n",
       " 'cash': 83,\n",
       " 'cms': 7,\n",
       " 'microcode': 3,\n",
       " 'drbombay': 1,\n",
       " 'arpa': 14,\n",
       " 'fubar': 2,\n",
       " 'freaking': 1,\n",
       " 'hermeneutrik': 1,\n",
       " 'predictive': 4,\n",
       " 'referees': 1,\n",
       " 'bzm': 1,\n",
       " 'hollis': 4,\n",
       " 'scared': 36,\n",
       " 'ascii': 53,\n",
       " 'aff': 1,\n",
       " 'sew': 1,\n",
       " 'botton': 4,\n",
       " 'yourhost': 3,\n",
       " 'furnaces': 1,\n",
       " 'xtiff': 1,\n",
       " 'dunno': 33,\n",
       " 'indeo': 1,\n",
       " 'trascapoulos': 1,\n",
       " 'ras': 4,\n",
       " 'achilles': 2,\n",
       " 'theory': 206,\n",
       " 'rodrigues': 2,\n",
       " 'jgonzalez': 1,\n",
       " 'excises': 1,\n",
       " 'encryptor': 3,\n",
       " 'temperaments': 1,\n",
       " 'folder': 7,\n",
       " 'jjjjjjjj': 1,\n",
       " 'refridgerator': 1,\n",
       " 'delegating': 1,\n",
       " 'wakeup': 2,\n",
       " 'businesswoman': 1,\n",
       " 'hayes': 33,\n",
       " 'marbles': 2,\n",
       " 'fracture': 2,\n",
       " 'mohandes': 1,\n",
       " 'weintraub': 2,\n",
       " 'rowell': 4,\n",
       " 'brisbane': 5,\n",
       " 'inquired': 3,\n",
       " 'spells': 7,\n",
       " 'caled': 1,\n",
       " 'commissioning': 1,\n",
       " 'risen': 33,\n",
       " 'accidents': 49,\n",
       " 'compliers': 1,\n",
       " 'nieminen': 4,\n",
       " 'nunez': 2,\n",
       " 'destroynotify': 1,\n",
       " 'apartment': 36,\n",
       " 'glasgow': 10,\n",
       " 'stationery': 4,\n",
       " 'skater': 4,\n",
       " 'matza': 5,\n",
       " 'cbrooks': 5,\n",
       " 'wtjo': 1,\n",
       " 'reh': 1,\n",
       " 'revenues': 13,\n",
       " 'speedo': 11,\n",
       " 'hunters': 11,\n",
       " 'modester': 1,\n",
       " 'lecturing': 1,\n",
       " 'mofh': 1,\n",
       " 'signficant': 1,\n",
       " 'techie': 2,\n",
       " 'joinly': 1,\n",
       " 'netcom': 160,\n",
       " 'intercession': 3,\n",
       " 'fashion': 55,\n",
       " 'frightful': 6,\n",
       " 'polyester': 1,\n",
       " 'phoenicians': 1,\n",
       " 'afflicted': 6,\n",
       " 'bradly': 1,\n",
       " 'dmconnection': 1,\n",
       " 'gfp': 1,\n",
       " 'xacto': 1,\n",
       " 'skybox': 1,\n",
       " 'opinion': 402,\n",
       " 'resumed': 9,\n",
       " 'ymodem': 5,\n",
       " 'compataible': 1,\n",
       " 'proventil': 1,\n",
       " 'redemption': 11,\n",
       " 'weighting': 2,\n",
       " 'jmorriso': 1,\n",
       " 'volcanic': 4,\n",
       " 'maq': 3,\n",
       " 'concentrator': 1,\n",
       " 'witzzq': 1,\n",
       " 'malloy': 2,\n",
       " 'creel': 1,\n",
       " 'sha': 4,\n",
       " 'ashburn': 2,\n",
       " 'zettler': 2,\n",
       " 'deference': 1,\n",
       " 'heng': 3,\n",
       " 'ihr': 3,\n",
       " 'tigran': 1,\n",
       " 'gsp': 1,\n",
       " 'seradr': 2,\n",
       " 'imagewriter': 10,\n",
       " 'impoverished': 3,\n",
       " 'toffee': 3,\n",
       " 'machiness': 1,\n",
       " 'hri': 2,\n",
       " 'schleck': 1,\n",
       " 'oqj': 1,\n",
       " 'tenet': 5,\n",
       " 'bortels': 2,\n",
       " 'rsa': 48,\n",
       " 'suat': 6,\n",
       " 'artc': 3,\n",
       " 'insurance': 140,\n",
       " 'bitnet': 87,\n",
       " 'filemanager': 5,\n",
       " 'menahem': 2,\n",
       " 'packs': 10,\n",
       " 'meclomen': 1,\n",
       " 'hd': 133,\n",
       " 'jetting': 1,\n",
       " 'kinks': 3,\n",
       " 'cosmogony': 2,\n",
       " 'lat': 6,\n",
       " 'ethos': 3,\n",
       " 'karotas': 1,\n",
       " 'enterprise': 17,\n",
       " 'ankerberg': 1,\n",
       " 'araclari': 1,\n",
       " 'owl': 7,\n",
       " 'clhawth': 1,\n",
       " 'quincey': 1,\n",
       " 'reinitialize': 1,\n",
       " 'organisms': 19,\n",
       " 'spl': 7,\n",
       " 'entailing': 1,\n",
       " 'jettison': 1,\n",
       " 'phototropism': 1,\n",
       " 'depraved': 2,\n",
       " 'hensley': 5,\n",
       " 'vss': 1,\n",
       " 'loving': 54,\n",
       " 'defendants': 7,\n",
       " 'krasnovodsk': 1,\n",
       " 'limbo': 2,\n",
       " 'hirgun': 1,\n",
       " 'intrude': 2,\n",
       " 'quotable': 1,\n",
       " 'fragment': 11,\n",
       " 'moisten': 2,\n",
       " 'modimidofrsaso': 2,\n",
       " 'kimata': 1,\n",
       " 'acuson': 1,\n",
       " 'onbase': 1,\n",
       " 'chargeing': 1,\n",
       " 'anotehr': 1,\n",
       " 'reassignment': 3,\n",
       " 'mapam': 1,\n",
       " 'grapics': 1,\n",
       " 'koresh': 128,\n",
       " 'irrevocably': 3,\n",
       " 'pentolite': 1,\n",
       " 'mobilized': 1,\n",
       " 'fbis': 1,\n",
       " 'autoindent': 1,\n",
       " 'ztimer': 1,\n",
       " 'marida': 5,\n",
       " 'peeeceees': 1,\n",
       " 'aras': 2,\n",
       " 'premo': 3,\n",
       " 'pankey': 1,\n",
       " 'disconcerting': 4,\n",
       " 'thighs': 3,\n",
       " 'banisar': 1,\n",
       " 'tripling': 3,\n",
       " 'climb': 7,\n",
       " 'francesca': 1,\n",
       " 'chances': 102,\n",
       " 'npc': 1,\n",
       " 'gnohmon': 1,\n",
       " 'newfound': 2,\n",
       " 'spitak': 1,\n",
       " 'adoption': 7,\n",
       " 'vtol': 3,\n",
       " 'mfiy': 1,\n",
       " 'corneal': 5,\n",
       " 'crates': 1,\n",
       " 'wouldany': 1,\n",
       " 'holsend': 1,\n",
       " 'syria': 46,\n",
       " 'subordinationism': 1,\n",
       " 'coul': 2,\n",
       " 'merkel': 1,\n",
       " 'metering': 2,\n",
       " 'discus': 1,\n",
       " 'joseph': 174,\n",
       " 'defies': 4,\n",
       " 'doodad': 1,\n",
       " 'hsync': 1,\n",
       " 'deluca': 6,\n",
       " 'littman': 2,\n",
       " 'targus': 1,\n",
       " 'replenish': 2,\n",
       " 'emptied': 4,\n",
       " 'swansea': 1,\n",
       " 'reguardless': 1,\n",
       " 'area': 499,\n",
       " 'vehicle': 147,\n",
       " 'shallow': 12,\n",
       " 'pgp': 124,\n",
       " 'ahmet': 8,\n",
       " 'slugs': 3,\n",
       " 'jfguiv': 1,\n",
       " 'misteriously': 1,\n",
       " 'deos': 1,\n",
       " 'supercomp': 3,\n",
       " 'insemination': 3,\n",
       " 'pimentel': 9,\n",
       " 'tamuts': 1,\n",
       " 'daimyo': 1,\n",
       " 'reticuli': 1,\n",
       " 'anderson': 95,\n",
       " 'tunnels': 5,\n",
       " 'chrysler': 23,\n",
       " 'orlk': 2,\n",
       " 'mickey': 15,\n",
       " 'fsspr': 7,\n",
       " 'model': 297,\n",
       " 'pedersen': 7,\n",
       " 'regularity': 6,\n",
       " 'excimer': 1,\n",
       " 'healings': 1,\n",
       " 'ilmenau': 3,\n",
       " 'misfits': 5,\n",
       " 'fantastische': 1,\n",
       " 'rainout': 1,\n",
       " 'montanaro': 4,\n",
       " 'superiors': 3,\n",
       " 'waffles': 3,\n",
       " 'ebuddington': 1,\n",
       " 'blowme': 2,\n",
       " 'tac': 2,\n",
       " 'futilely': 1,\n",
       " 'nazan': 1,\n",
       " 'ppz': 1,\n",
       " 'xtd': 1,\n",
       " 'xuuencode': 2,\n",
       " 'stereoscopic': 1,\n",
       " 'mackin': 3,\n",
       " 'dueled': 1,\n",
       " 'trainers': 1,\n",
       " 'furleys': 2,\n",
       " 'davida': 1,\n",
       " 'comptons': 2,\n",
       " 'soles': 1,\n",
       " 'wernher': 2,\n",
       " 'hoping': 89,\n",
       " 'crx': 8,\n",
       " 'cato': 2,\n",
       " 'emotionally': 17,\n",
       " 'descrimination': 1,\n",
       " 'illitch': 3,\n",
       " 'blissful': 2,\n",
       " 'rcsinfo': 1,\n",
       " 'ganja': 1,\n",
       " 'professing': 1,\n",
       " 'greatly': 235,\n",
       " 'newcomb': 2,\n",
       " 'riverside': 4,\n",
       " 'canalways': 1,\n",
       " 'sacral': 2,\n",
       " 'orm': 2,\n",
       " 'zur': 3,\n",
       " 'cisler': 1,\n",
       " 'beavis': 1,\n",
       " 'foresight': 9,\n",
       " 'bushel': 1,\n",
       " 'adjoining': 3,\n",
       " 'unwisely': 1,\n",
       " 'mko': 1,\n",
       " 'zildjian': 1,\n",
       " 'vulgate': 1,\n",
       " 'undereducated': 1,\n",
       " 'successfully': 62,\n",
       " 'convincingly': 2,\n",
       " 'reprinted': 7,\n",
       " 'captaincy': 4,\n",
       " 'fixture': 3,\n",
       " 'wastful': 2,\n",
       " 'apodaca': 1,\n",
       " 'settlements': 15,\n",
       " 'drywall': 1,\n",
       " 'bname': 2,\n",
       " 'chelios': 21,\n",
       " 'cyclinder': 1,\n",
       " 'abolitionist': 2,\n",
       " 'obt': 1,\n",
       " 'shear': 8,\n",
       " 'lurches': 1,\n",
       " 'fancier': 3,\n",
       " 'dshal': 2,\n",
       " 'believeing': 3,\n",
       " 'bouncing': 17,\n",
       " 'fewest': 3,\n",
       " 'circulating': 9,\n",
       " 'mb': 134,\n",
       " 'bonus': 19,\n",
       " 'strengths': 5,\n",
       " 'asssures': 1,\n",
       " 'rumoured': 5,\n",
       " 'paoj': 1,\n",
       " 'truck': 82,\n",
       " 'pki': 1,\n",
       " 'mouse': 154,\n",
       " 'worldblazer': 1,\n",
       " 'xsculptor': 1,\n",
       " 'csrag': 1,\n",
       " 'somethong': 2,\n",
       " 'misha': 1,\n",
       " 'overloaded': 4,\n",
       " 'dislocate': 1,\n",
       " 'ahx': 1,\n",
       " 'aircraft': 42,\n",
       " 'attributions': 5,\n",
       " 'xyz': 12,\n",
       " 'disable': 31,\n",
       " 'xtcallconverter': 3,\n",
       " 'uev': 2,\n",
       " 'koehler': 2,\n",
       " 'adue': 1,\n",
       " 'luigi': 5,\n",
       " 'springbrook': 1,\n",
       " 'nxm': 1,\n",
       " 'jffo': 2,\n",
       " 'vanallen': 1,\n",
       " 'ndis': 10,\n",
       " 'sadams': 1,\n",
       " 'fidgeting': 1,\n",
       " 'consumerism': 1,\n",
       " 'succulent': 1,\n",
       " 'serfs': 2,\n",
       " 'resurection': 9,\n",
       " 'planted': 7,\n",
       " 'reiniger': 1,\n",
       " 'decently': 3,\n",
       " 'cfx': 1,\n",
       " 'falcons': 1,\n",
       " 'xtngetvalue': 1,\n",
       " 'pearl': 6,\n",
       " 'cpkjp': 5,\n",
       " 'glassner': 3,\n",
       " 'redundancies': 3,\n",
       " 'mechanism': 103,\n",
       " 'missed': 159,\n",
       " 'merlinus': 1,\n",
       " 'tcy': 1,\n",
       " 'lawyer': 55,\n",
       " 'gaiman': 1,\n",
       " 'simonsom': 1,\n",
       " 'pcmi': 1,\n",
       " 'pcmag': 1,\n",
       " 'nortons': 1,\n",
       " 'stevela': 1,\n",
       " 'interrogation': 6,\n",
       " 'eternality': 3,\n",
       " 'beard': 3,\n",
       " 'mimicry': 3,\n",
       " 'evan': 10,\n",
       " 'uqvg': 1,\n",
       " 'daubendr': 4,\n",
       " 'letterbox': 1,\n",
       " 'tenable': 2,\n",
       " 'rrulers': 1,\n",
       " 'gammas': 1,\n",
       " 'whole': 582,\n",
       " 'tenderized': 2,\n",
       " 'feulner': 2,\n",
       " 'vicars': 1,\n",
       " 'istead': 3,\n",
       " 'cnbc': 1,\n",
       " 'quark': 4,\n",
       " 'dickg': 1,\n",
       " 'reinvested': 1,\n",
       " 'mop': 2,\n",
       " 'xopenwindow': 4,\n",
       " 'stephanopolous': 3,\n",
       " 'moshing': 1,\n",
       " 'hlc': 1,\n",
       " 'impicated': 1,\n",
       " 'screamer': 1,\n",
       " 'elefant': 1,\n",
       " 'quackery': 9,\n",
       " 'lawenforcmentfield': 1,\n",
       " 'data': 647,\n",
       " 'priori': 8,\n",
       " 'mbps': 2,\n",
       " 'mgn': 1,\n",
       " 'saftey': 14,\n",
       " 'carriages': 2,\n",
       " 'byo': 1,\n",
       " 'nurse': 9,\n",
       " 'primitives': 6,\n",
       " 'gelldav': 1,\n",
       " 'salman': 3,\n",
       " 'postscriptlevel': 1,\n",
       " 'aforementioned': 12,\n",
       " 'fresh': 44,\n",
       " 'spca': 2,\n",
       " 'wiener': 10,\n",
       " 'completly': 8,\n",
       " 'nostradamus': 2,\n",
       " 'preamble': 3,\n",
       " 'babcock': 1,\n",
       " 'summerall': 4,\n",
       " 'rotcland': 1,\n",
       " 'hebrew': 40,\n",
       " 'faikoglu': 3,\n",
       " 'frames': 26,\n",
       " 'furusawa': 1,\n",
       " 'puerto': 5,\n",
       " 'vv': 7,\n",
       " 'fridy': 1,\n",
       " 'ohio': 231,\n",
       " 'easter': 42,\n",
       " 'goers': 1,\n",
       " 'visualisation': 5,\n",
       " 'ckx': 1,\n",
       " 'automata': 4,\n",
       " 'romanies': 1,\n",
       " 'holmdel': 13,\n",
       " 'immensely': 8,\n",
       " 'steve': 494,\n",
       " 'roz': 2,\n",
       " 'xcalc': 1,\n",
       " 'indicating': 27,\n",
       " 'fincke': 1,\n",
       " 'lezhgi': 1,\n",
       " 'gp': 22,\n",
       " 'srikanth': 1,\n",
       " 'sexularhumanist': 1,\n",
       " 'fearly': 1,\n",
       " 'eickemeyer': 1,\n",
       " 'reupholstered': 1,\n",
       " 'hga': 5,\n",
       " 'grave': 36,\n",
       " 'sunfront': 1,\n",
       " 'bhig': 1,\n",
       " 'gretzkys': 1,\n",
       " 'closeness': 3,\n",
       " 'ctrltest': 2,\n",
       " 'brings': 72,\n",
       " 'betray': 1,\n",
       " 'sndiego': 1,\n",
       " 'calloc': 1,\n",
       " 'standardize': 1,\n",
       " 'jzpb': 1,\n",
       " 'stimson': 1,\n",
       " 'davidm': 1,\n",
       " 'lends': 5,\n",
       " 'perfume': 3,\n",
       " 'honist': 1,\n",
       " 'cataloge': 1,\n",
       " 'reciting': 2,\n",
       " 'dimes': 2,\n",
       " 'entrusted': 5,\n",
       " 'understandable': 21,\n",
       " 'scheduler': 2,\n",
       " 'znkhflahfnkjz': 1,\n",
       " 'distort': 10,\n",
       " 'resold': 1,\n",
       " 'pederasty': 1,\n",
       " 'singal': 1,\n",
       " 'sk': 26,\n",
       " 'pollard': 2,\n",
       " 'replacement': 82,\n",
       " 'impressed': 64,\n",
       " 'mazilli': 1,\n",
       " 'amdp': 1,\n",
       " 'rodgman': 1,\n",
       " 'goings': 1,\n",
       " 'gameing': 1,\n",
       " 'admins': 4,\n",
       " 'whirring': 1,\n",
       " 'jtk': 1,\n",
       " 'unacceptable': 28,\n",
       " 'eren': 7,\n",
       " 'caal': 1,\n",
       " 'marysville': 4,\n",
       " 'supplemental': 12,\n",
       " 'placement': 14,\n",
       " 'fbihh': 13,\n",
       " 'uname': 3,\n",
       " 'grumpy': 2,\n",
       " 'colvin': 4,\n",
       " 'heuvel': 2,\n",
       " 'presumeably': 6,\n",
       " 'iupa': 1,\n",
       " 'omx': 1,\n",
       " 'offfffff': 1,\n",
       " 'xjudging': 2,\n",
       " 'heffern': 1,\n",
       " 'poised': 5,\n",
       " 'loonies': 1,\n",
       " 'ariel': 6,\n",
       " 'debuts': 2,\n",
       " 'argic': 88,\n",
       " 'sarin': 1,\n",
       " 'yin': 5,\n",
       " 'crumbs': 1,\n",
       " 'sean': 65,\n",
       " 'xicrp': 1,\n",
       " 'orel': 2,\n",
       " 'lempel': 1,\n",
       " 'effendi': 1,\n",
       " 'nakhichevan': 6,\n",
       " 'beams': 12,\n",
       " 'diaphram': 3,\n",
       " 'wl': 7,\n",
       " 'dominus': 1,\n",
       " 'relievers': 5,\n",
       " 'century': 140,\n",
       " 'toilets': 1,\n",
       " 'suprax': 1,\n",
       " 'mfh': 2,\n",
       " 'isolates': 1,\n",
       " 'lesson': 36,\n",
       " 'arthur': 49,\n",
       " 'quotings': 1,\n",
       " 'rogoff': 11,\n",
       " 'kellner': 1,\n",
       " 'unsatisfied': 1,\n",
       " 'tweaking': 3,\n",
       " 'inconsistencies': 7,\n",
       " 'browdy': 1,\n",
       " 'absurdity': 19,\n",
       " 'xtreleasegc': 2,\n",
       " 'iostat': 1,\n",
       " 'crooke': 1,\n",
       " 'refining': 2,\n",
       " 'haverhill': 1,\n",
       " 'forma': 1,\n",
       " 'asiatic': 3,\n",
       " 'fjr': 3,\n",
       " 'ambivalent': 2,\n",
       " 'shafted': 7,\n",
       " 'asume': 2,\n",
       " 'logullo': 1,\n",
       " 'egzondag': 1,\n",
       " 'rsb': 5,\n",
       " 'pburry': 1,\n",
       " 'levs': 1,\n",
       " 'tetrahedral': 1,\n",
       " 'rangefinders': 1,\n",
       " 'grandson': 4,\n",
       " 'forsberg': 13,\n",
       " 'goalies': 27,\n",
       " 'rvaniwaa': 1,\n",
       " 'enterprises': 21,\n",
       " 'elmo': 2,\n",
       " 'oehler': 2,\n",
       " 'unreal': 3,\n",
       " 'botts': 1,\n",
       " 'cbd': 1,\n",
       " 'infallibility': 8,\n",
       " 'si': 59,\n",
       " 'aurorae': 1,\n",
       " 'springs': 57,\n",
       " 'dealing': 94,\n",
       " 'pia': 1,\n",
       " 'matta': 1,\n",
       " 'maula': 2,\n",
       " 'southbridge': 1,\n",
       " 'apocalypse': 9,\n",
       " 'unbegotten': 2,\n",
       " 'kirtland': 2,\n",
       " 'nbls': 1,\n",
       " 'ikmali': 1,\n",
       " 'handlings': 2,\n",
       " 'pathologies': 1,\n",
       " 'bacon': 6,\n",
       " 'reaffirming': 1,\n",
       " 'child': 186,\n",
       " 'imaginations': 1,\n",
       " 'contender': 6,\n",
       " 'wishnie': 1,\n",
       " 'boltzman': 1,\n",
       " 'intial': 1,\n",
       " 'orgies': 2,\n",
       " 'rngai': 1,\n",
       " 'holes': 88,\n",
       " 'sheeyaahhh': 1,\n",
       " 'jacoby': 3,\n",
       " 'nakhichevanik': 1,\n",
       " 'alright': 17,\n",
       " 'isolate': 8,\n",
       " 'masika': 2,\n",
       " 'slant': 2,\n",
       " 'kfbq': 1,\n",
       " 'eshneken': 21,\n",
       " 'wrapped': 16,\n",
       " 'feelings': 55,\n",
       " 'naftulyev': 1,\n",
       " 'iig': 4,\n",
       " 'ffwqa': 1,\n",
       " 'sterrenkundigen': 1,\n",
       " 'dinged': 2,\n",
       " 'antigun': 2,\n",
       " 'cult': 73,\n",
       " 'vmmzvm': 1,\n",
       " 'badcolor': 2,\n",
       " 'appalacian': 1,\n",
       " 'ok': 392,\n",
       " 'flyback': 9,\n",
       " 'rechenzentrum': 6,\n",
       " 'procrastination': 3,\n",
       " 'wells': 28,\n",
       " 'delta': 33,\n",
       " 'alogorythmn': 1,\n",
       " 'bmich': 3,\n",
       " 'shape': 99,\n",
       " 'waldron': 2,\n",
       " 'prec': 2,\n",
       " 'miety': 1,\n",
       " 'undertaking': 6,\n",
       " 'adavantage': 1,\n",
       " 'rubble': 6,\n",
       " 'thedore': 1,\n",
       " 'zsfkh': 1,\n",
       " 'believers': 46,\n",
       " 'alsoinvolved': 1,\n",
       " 'herald': 6,\n",
       " 'archibishop': 1,\n",
       " 'dclaar': 2,\n",
       " 'mcclearn': 1,\n",
       " 'legislature': 9,\n",
       " 'extirmination': 1,\n",
       " 'allah': 22,\n",
       " 'translators': 14,\n",
       " 'diabetic': 3,\n",
       " 'credulity': 1,\n",
       " 'geven': 1,\n",
       " 'harti': 1,\n",
       " 'quadrilateral': 2,\n",
       " 'diddlysquat': 1,\n",
       " 'wp': 22,\n",
       " 'xwip': 1,\n",
       " 'ren': 2,\n",
       " 'ghb': 1,\n",
       " 'hetzel': 1,\n",
       " 'gdb': 4,\n",
       " 'wchau': 1,\n",
       " 'xkeysymdb': 3,\n",
       " 'loney': 6,\n",
       " 'basalts': 2,\n",
       " 'fearing': 8,\n",
       " 'uafhp': 6,\n",
       " 'platinga': 1,\n",
       " 'payne': 7,\n",
       " 'obfuscate': 15,\n",
       " 'steele': 10,\n",
       " 'sedd': 1,\n",
       " 'patchman': 1,\n",
       " 'natzweiler': 1,\n",
       " 'nicht': 4,\n",
       " 'ohlwein': 2,\n",
       " 'installer': 2,\n",
       " 'navigation': 16,\n",
       " 'salem': 11,\n",
       " 'nengle': 1,\n",
       " 'zhao': 8,\n",
       " 'dwelling': 6,\n",
       " 'equip': 9,\n",
       " 'evet': 1,\n",
       " 'cherokees': 2,\n",
       " 'misspellings': 2,\n",
       " 'confucius': 1,\n",
       " 'cmgrawbu': 2,\n",
       " 'core': 83,\n",
       " 'panacea': 2,\n",
       " 'evas': 2,\n",
       " 'cranford': 3,\n",
       " 'feh': 1,\n",
       " 'ix': 12,\n",
       " 'xf': 3,\n",
       " 'aacvkc': 1,\n",
       " 'commas': 2,\n",
       " 'nonsense': 64,\n",
       " 'xtwarning': 2,\n",
       " 'perspective': 81,\n",
       " 'wiggles': 2,\n",
       " 'otium': 1,\n",
       " 'centigrade': 1,\n",
       " 'ritchie': 2,\n",
       " 'smokers': 11,\n",
       " 'dietician': 4,\n",
       " 'babtized': 2,\n",
       " 'jpg': 8,\n",
       " 'muammer': 2,\n",
       " 'petroglyphs': 1,\n",
       " 'derk': 1,\n",
       " 'mvaughn': 1,\n",
       " 'cease': 30,\n",
       " 'resolves': 3,\n",
       " 'ms': 155,\n",
       " 'configurable': 10,\n",
       " 'witte': 1,\n",
       " 'oafp': 1,\n",
       " 'ffu': 1,\n",
       " 'abounded': 1,\n",
       " 'proselytizers': 1,\n",
       " 'ewrr': 1,\n",
       " 'impeachment': 5,\n",
       " 'report': 247,\n",
       " 'striped': 11,\n",
       " 'sophistication': 8,\n",
       " 'lulled': 2,\n",
       " 'brockton': 2,\n",
       " 'obfuscations': 1,\n",
       " 'limitee': 1,\n",
       " 'emil': 3,\n",
       " 'handiwork': 1,\n",
       " 'favorite': 93,\n",
       " 'concerniong': 1,\n",
       " 'garble': 1,\n",
       " 'distributes': 4,\n",
       " 'ranen': 1,\n",
       " 'pantheon': 1,\n",
       " 'brig': 1,\n",
       " 'fogged': 1,\n",
       " 'crimestrike': 1,\n",
       " 'ahf': 4,\n",
       " 'headlights': 11,\n",
       " 'clouding': 1,\n",
       " 'guidannce': 1,\n",
       " 'oems': 1,\n",
       " 'ghod': 3,\n",
       " 'pspro': 1,\n",
       " 'sigint': 1,\n",
       " 'salesperson': 7,\n",
       " 'bor': 3,\n",
       " 'lupus': 1,\n",
       " 'townfolks': 1,\n",
       " 'farenebt': 12,\n",
       " 'optoisolators': 1,\n",
       " 'ingenous': 1,\n",
       " 'candiotti': 2,\n",
       " 'anulments': 1,\n",
       " 'deed': 12,\n",
       " 'germanium': 1,\n",
       " 'stockpiling': 5,\n",
       " 'identifies': 7,\n",
       " 'derives': 5,\n",
       " 'excels': 1,\n",
       " 'njh': 1,\n",
       " 'regional': 61,\n",
       " 'blh': 11,\n",
       " 'belch': 3,\n",
       " 'xtvacreatemanagedwidget': 4,\n",
       " 'chongo': 4,\n",
       " 'lullaby': 1,\n",
       " 'clibsucces': 1,\n",
       " 'quinton': 1,\n",
       " 'plaza': 7,\n",
       " 'nts': 1,\n",
       " 'silencing': 2,\n",
       " 'ngvznb': 1,\n",
       " 'livid': 1,\n",
       " 'reciept': 1,\n",
       " 'bhjnuy': 6,\n",
       " 'motherly': 5,\n",
       " 'oveshadowed': 1,\n",
       " 'diffie': 3,\n",
       " 'signifying': 2,\n",
       " 'glxunlink': 4,\n",
       " 'gallichio': 10,\n",
       " 'trunks': 4,\n",
       " 'xtgetapplicationresources': 2,\n",
       " 'dipswitches': 2,\n",
       " 'sharp': 45,\n",
       " 'assurances': 6,\n",
       " 'usueful': 1,\n",
       " 'expansionist': 4,\n",
       " 'lavange': 1,\n",
       " 'perlin': 1,\n",
       " 'worshipping': 7,\n",
       " 'wealthbuilder': 1,\n",
       " 'undesignated': 1,\n",
       " 'hamblin': 1,\n",
       " 'ios': 3,\n",
       " 'mahood': 1,\n",
       " 'cyberman': 4,\n",
       " 'persident': 2,\n",
       " 'deviousness': 1,\n",
       " 'najz': 3,\n",
       " 'redesigning': 3,\n",
       " 'arden': 6,\n",
       " 'workalikes': 1,\n",
       " 'bgj': 1,\n",
       " 'bigotry': 14,\n",
       " 'tclark': 4,\n",
       " 'specialised': 1,\n",
       " 'nanney': 1,\n",
       " 'manitoba': 32,\n",
       " 'armstrng': 4,\n",
       " 'pined': 1,\n",
       " 'furiously': 2,\n",
       " 'sprechman': 1,\n",
       " 'tensing': 1,\n",
       " 'push': 99,\n",
       " 'kubey': 3,\n",
       " 'cma': 3,\n",
       " 'combatted': 1,\n",
       " 'pronounces': 1,\n",
       " 'ph': 41,\n",
       " 'ooh': 1,\n",
       " 'lastling': 1,\n",
       " 'bumbled': 1,\n",
       " 'agnus': 1,\n",
       " 'clarified': 9,\n",
       " 'pager': 15,\n",
       " 'adm': 2,\n",
       " 'gangemi': 2,\n",
       " 'again': 996,\n",
       " 'academically': 2,\n",
       " 'keil': 1,\n",
       " 'workgroup': 4,\n",
       " ...}"
      ]
     },
     "execution_count": 9,
     "metadata": {},
     "output_type": "execute_result"
    }
   ],
   "source": [
    "# Create a dictionary containing the frequency of words utilizing the 'frequency_dict' function\n",
    "\n",
    "# Expect this chunk to take a comparatively longer time to execute since our dataset is large\n",
    "\n",
    "freq_word = frequency_dict(lines)\n",
    "\n",
    "freq_word"
   ]
  },
  {
   "cell_type": "code",
   "execution_count": 10,
   "metadata": {
    "id": "vLvPijR_GKHn"
   },
   "outputs": [],
   "source": [
    "# Create a function to calculate the Term Frequency\n",
    "\n",
    "def term_frequency(document, word):\n",
    "    '''\n",
    "    document: list containing the entire corpus\n",
    "    word: word whose term frequency is to be calculated\n",
    "    ---\n",
    "    tf: returns term frequency value\n",
    "    '''\n",
    "    n = len(document)# get length of this document\n",
    "    o = len([token for token in document if token == word])#occurence of this word in this document\n",
    "    tf = o/n#calculate tf\n",
    "    return tf"
   ]
  },
  {
   "cell_type": "code",
   "execution_count": 11,
   "metadata": {
    "id": "HA99G_yAGLCC"
   },
   "outputs": [],
   "source": [
    "# Create a function to calculate the Inverse Document Frequency\n",
    " \n",
    "def inverse_df(word):\n",
    "    '''\n",
    "    word: word whose inverse document frequency is to be calculated\n",
    "    ---\n",
    "    idf: return inverse document frequency value\n",
    "    '''\n",
    "    if word in freq_word:#we should detect whether this word is in freq_word or not\n",
    "        hehe = freq_word[word] + 1#if this word is in freq_word\n",
    "    else:\n",
    "        hehe = 1#if this word is not in freq_word\n",
    "    idf = np.log(total_docs/hehe)#calculate idf\n",
    "    return idf"
   ]
  },
  {
   "cell_type": "code",
   "execution_count": 12,
   "metadata": {
    "id": "F0irgwv2GRfE"
   },
   "outputs": [],
   "source": [
    "#Create a function to combine the term frequencies (TF) and inverse document (IDF) frequencies calculated above to get TF-IDF\n",
    "\n",
    "def tfidf(sentence,dict_idx):\n",
    "    '''\n",
    "    sentence: list containing the entire corpus\n",
    "    dict: dictionary keeping track of index of each word\n",
    "    ---\n",
    "    tf_idf_vec: returns computed tf-idf\n",
    "    '''\n",
    "    tf_idf_vec = np.zeros((len(word_list),)) #create a array to store tfidf values\n",
    "    for wo in sentence:\n",
    "        tf = term_frequency(sentence,wo)# get tf\n",
    "        idf = inverse_df(wo)#get idf\n",
    "        value = tf*idf#calculate tfidf\n",
    "        tf_idf_vec[dict_idx[wo]] = value#store tfidf into exact position\n",
    "        #print(idf)\n",
    "    return tf_idf_vec"
   ]
  },
  {
   "cell_type": "code",
   "execution_count": 13,
   "metadata": {},
   "outputs": [
    {
     "data": {
      "text/plain": [
       "80"
      ]
     },
     "execution_count": 13,
     "metadata": {},
     "output_type": "execute_result"
    }
   ],
   "source": [
    "import gc\n",
    "gc.collect()#release memory for run successfully"
   ]
  },
  {
   "cell_type": "code",
   "execution_count": 14,
   "metadata": {
    "id": "_VKJhqatGWpV"
   },
   "outputs": [],
   "source": [
    "#Compute the vectors utilizing the 'tfidf' function created above to obtain a TF-IDF Encoded text corpus\n",
    "vectors = []#store tfidf\n",
    "for line in lines:#for each line calculate tfidf\n",
    "    v = tfidf(line,dict_idx)\n",
    "    vectors.append(v)\n"
   ]
  },
  {
   "cell_type": "code",
   "execution_count": 15,
   "metadata": {},
   "outputs": [],
   "source": [
    "from sklearn import preprocessing\n",
    "#this part is to solve problem that MultinomialNB can not accept nagetive values\n",
    "def min_max_normalization(np_array):\n",
    "    min_max_scaler = preprocessing.MinMaxScaler()\n",
    "    ret = min_max_scaler.fit_transform(np_array)\n",
    "    return ret\n"
   ]
  },
  {
   "cell_type": "code",
   "execution_count": 16,
   "metadata": {},
   "outputs": [
    {
     "data": {
      "text/plain": [
       "60"
      ]
     },
     "execution_count": 16,
     "metadata": {},
     "output_type": "execute_result"
    }
   ],
   "source": [
    "\n",
    "gc.collect()#release memory for run successfully"
   ]
  },
  {
   "cell_type": "markdown",
   "metadata": {
    "id": "LE0UGUaSGb8I"
   },
   "source": [
    "## Multinomial Naive Bayes (10 Points)"
   ]
  },
  {
   "cell_type": "code",
   "execution_count": 17,
   "metadata": {},
   "outputs": [],
   "source": [
    "ret = min_max_normalization(vectors)"
   ]
  },
  {
   "cell_type": "code",
   "execution_count": 18,
   "metadata": {},
   "outputs": [],
   "source": [
    "del vectors#release memory for run successfully"
   ]
  },
  {
   "cell_type": "code",
   "execution_count": 19,
   "metadata": {
    "id": "yWYcxrdJGfDC"
   },
   "outputs": [
    {
     "data": {
      "text/plain": [
       "MultinomialNB()"
      ]
     },
     "execution_count": 19,
     "metadata": {},
     "output_type": "execute_result"
    }
   ],
   "source": [
    "#Fit a Multinomial Naive Bayes Model on our dataset\n",
    "from sklearn.naive_bayes import MultinomialNB\n",
    "model = MultinomialNB()\n",
    "model.fit(ret,mydata_train.filenames)"
   ]
  },
  {
   "cell_type": "code",
   "execution_count": 20,
   "metadata": {},
   "outputs": [
    {
     "data": {
      "text/plain": [
       "80"
      ]
     },
     "execution_count": 20,
     "metadata": {},
     "output_type": "execute_result"
    }
   ],
   "source": [
    "gc.collect()#release memory for run successfully"
   ]
  },
  {
   "cell_type": "code",
   "execution_count": 21,
   "metadata": {
    "id": "G6CiQB4qGfqH"
   },
   "outputs": [],
   "source": [
    "#Perform testing on the train dataset\n",
    "\n",
    "pred = model.predict(ret)"
   ]
  },
  {
   "cell_type": "code",
   "execution_count": 22,
   "metadata": {
    "id": "yCLagGu6Gh6T"
   },
   "outputs": [
    {
     "name": "stdout",
     "output_type": "stream",
     "text": [
      "F1 Score:  0.9858199281126627\n",
      "Accuracy:  0.9893052854870072\n"
     ]
    }
   ],
   "source": [
    "#Calculate the F1 Score and the Accuracy\n",
    "from sklearn.metrics import f1_score\n",
    "from sklearn.metrics import accuracy_score\n",
    "F1_score = f1_score(mydata_train.filenames, pred, average='macro')\n",
    "Accuracy = accuracy_score(mydata_train.filenames, pred)\n",
    "print(\"F1 Score: \", F1_score)\n",
    "print(\"Accuracy: \", Accuracy)"
   ]
  },
  {
   "cell_type": "markdown",
   "metadata": {
    "id": "bbMRqJv5Gl2F"
   },
   "source": [
    "### Expected Output:\n",
    "F1 Score: 0.9533633964397735\n",
    "\n",
    "Accuracy: 0.9524482941488421"
   ]
  },
  {
   "cell_type": "markdown",
   "metadata": {
    "id": "AWRDuUqU-taV"
   },
   "source": [
    "Your accuracy does not have to be exactly the same. This is just to give you an estimate of what could you expect your accuracy to be around."
   ]
  },
  {
   "cell_type": "markdown",
   "metadata": {
    "id": "UfMc8cz93Cc0"
   },
   "source": [
    "## Question 2 Vector Visualization"
   ]
  },
  {
   "cell_type": "markdown",
   "metadata": {
    "id": "70iwEeL23F7K"
   },
   "source": [
    "In this unsupervised learning task we are going to cluster wikipedia articles into groups using T-SNE visualization after vectorization."
   ]
  },
  {
   "cell_type": "markdown",
   "metadata": {
    "id": "UHx4YuxW36oM"
   },
   "source": [
    "### Collect articles from Wikipedia (10 points)\n",
    "\n",
    "In this section we will download articles from wikipedia and then vectorize them in the next step. You can select somewhat related topics or fetch the articles randomly. \n",
    "(Use dir() and help() functions or refer wikipedia documentation)\n",
    "You may also pick any other data source of your choice instead of wikipedia."
   ]
  },
  {
   "cell_type": "code",
   "execution_count": 16,
   "metadata": {},
   "outputs": [
    {
     "name": "stdout",
     "output_type": "stream",
     "text": [
      "Requirement already satisfied: wikipedia in c:\\gamedownload\\lib\\site-packages (1.4.0)\n",
      "Requirement already satisfied: beautifulsoup4 in c:\\gamedownload\\lib\\site-packages (from wikipedia) (4.9.3)\n",
      "Requirement already satisfied: requests<3.0.0,>=2.0.0 in c:\\gamedownload\\lib\\site-packages (from wikipedia) (2.24.0)\n",
      "Requirement already satisfied: soupsieve>1.2; python_version >= \"3.0\" in c:\\gamedownload\\lib\\site-packages (from beautifulsoup4->wikipedia) (2.0.1)\n",
      "Requirement already satisfied: certifi>=2017.4.17 in c:\\gamedownload\\lib\\site-packages (from requests<3.0.0,>=2.0.0->wikipedia) (2020.6.20)\n",
      "Requirement already satisfied: urllib3!=1.25.0,!=1.25.1,<1.26,>=1.21.1 in c:\\gamedownload\\lib\\site-packages (from requests<3.0.0,>=2.0.0->wikipedia) (1.25.11)\n",
      "Requirement already satisfied: idna<3,>=2.5 in c:\\gamedownload\\lib\\site-packages (from requests<3.0.0,>=2.0.0->wikipedia) (2.10)\n",
      "Requirement already satisfied: chardet<4,>=3.0.2 in c:\\gamedownload\\lib\\site-packages (from requests<3.0.0,>=2.0.0->wikipedia) (3.0.4)\n",
      "Note: you may need to restart the kernel to use updated packages.\n"
     ]
    }
   ],
   "source": [
    "pip install wikipedia"
   ]
  },
  {
   "cell_type": "code",
   "execution_count": 17,
   "metadata": {
    "id": "vLMLk4K84Zbn"
   },
   "outputs": [],
   "source": [
    "import wikipedia\n",
    "from wikipedia.exceptions import WikipediaException\n",
    "\n",
    "'''\n",
    " Generate a list of wikipedia article to cluster \n",
    " You can maintain a static list of titles or generate them randomly using wikipedia library\n",
    " Some topics include:\n",
    " [\"Northeastern Unversity\", \"Natural language processing\", \"Machine learning\", \"Quantum machine learning\", \"Artificial intelligence\", \"Data science\", \"Master in Data Science\", \n",
    " \"Bank of America\", \"Visa Inc.\", \"European Central Bank\", \"Bank\", \"Financial technology\",\"International Monetary Fund\", \n",
    " \"Basketball\", \"Swimming\", \"Tennis\", \"Football\", \"College Football\", \"Association Football\"]\n",
    "\n",
    " You can add more topics from different categories so that we have a diverse dataset to work with. \n",
    " Ex- About 3+ categories(groups), 3+ topics in each category, 3+ articles in each topic\n",
    "'''\n",
    "\n",
    "# selected topics\n",
    "topics = [\"Football\",\"International Monetary Fund\", \"Quantum machine learning\", \"Artificial intelligence\"]\n",
    "\n",
    "# list of articles to be downloaded\n",
    "articles = []\n",
    "number_of_each_topic = []#calculate number of articles of each topics for plot T-sne result\n",
    "for topic in topics:\n",
    "    tempt = wikipedia.search(topic)#get title of articles of this topic\n",
    "    number_of_each_topic.append(len(tempt))#store number of articles of each topics\n",
    "    for a in tempt:\n",
    "        articles.append(a)#store articles titles\n",
    "        \n",
    "    \n",
    "# download and store articles (summaries) in this variable\n",
    "data = []\n",
    "for article in articles:\n",
    "    data.append(wikipedia.summary(article))\n"
   ]
  },
  {
   "cell_type": "markdown",
   "metadata": {
    "id": "IgpRv7wQ4Dpm"
   },
   "source": [
    "### Cleaning the Data (5 points)\n",
    "In this step you will decide whether to clean the data or not. If you choose to clean, you may utilize the clean function from assignment 1.\n",
    "\n",
    "**Question:** Why are you (not) choosing to clean the data? Think in terms of whether cleaning data will help in the clustering or not."
   ]
  },
  {
   "cell_type": "markdown",
   "metadata": {
    "id": "PnZpDKcaHTGq"
   },
   "source": [
    "**Answer(1-3 sentences):** Articles contains links, punctuation, stopwords and many other words that don't give a lot of meaning for the clustering model.It is also important to lowercase the letters so that 'Admire' and 'admire' are not treated as different words in the cluster model. This process can reduce the time and space required to run programs. In addition to this, perform stemming operation so that similar words are reduced. This step help model to do better cluster and improve performance of the cluster model."
   ]
  },
  {
   "cell_type": "code",
   "execution_count": 18,
   "metadata": {
    "id": "lNj53Pxr963N"
   },
   "outputs": [
    {
     "name": "stderr",
     "output_type": "stream",
     "text": [
      "[nltk_data] Downloading package wordnet to\n",
      "[nltk_data]     C:\\Users\\54364\\AppData\\Roaming\\nltk_data...\n",
      "[nltk_data]   Package wordnet is already up-to-date!\n",
      "[nltk_data] Downloading package stopwords to\n",
      "[nltk_data]     C:\\Users\\54364\\AppData\\Roaming\\nltk_data...\n",
      "[nltk_data]   Package stopwords is already up-to-date!\n"
     ]
    }
   ],
   "source": [
    "# You can use Assignment 1's clean message function\n",
    "import re\n",
    "import nltk\n",
    "import string\n",
    "#nltk.download('punkt')\n",
    "#nltk.download('stopwords')\n",
    "\n",
    "\n",
    "import nltk\n",
    "nltk.download('wordnet')\n",
    "from nltk.stem import PorterStemmer\n",
    "from nltk.tokenize import word_tokenize\n",
    "ps = nltk.PorterStemmer()#stemming\n",
    "\n",
    "def toLowerCase(text):\n",
    "    return text.lower() #changes all upper case alphabet to lower case\n",
    "import string\n",
    "string.punctuation # checking punctuations\n",
    "def removePunctuation(text):\n",
    "    return \"\".join([char for char in text if char not in string.punctuation])#removePunctuation\n",
    "\n",
    "import re\n",
    "def removeURLs(text):\n",
    "    \n",
    "    text = re.sub(r\"http\\S+\", \"\", text) # replaces URLs starting with http \n",
    "    text = re.sub(r\"www.\\S+\", \"\", text) # replaces URLs starting with wwe\n",
    "    return text\n",
    "\n",
    "\n",
    "from nltk.tokenize import sent_tokenize, word_tokenize# Use NLTK Pakecage to import sent_tokenize and word_tokenize\n",
    "from nltk.corpus import stopwords# Use NLTK Pakecage to import stopwords\n",
    "nltk.download('stopwords')\n",
    "def clean_message(message):\n",
    "    '''\n",
    "    Input:\n",
    "        review: a string containing a review.\n",
    "    Output:\n",
    "        review_cleaned: a processed review. \n",
    "\n",
    "    '''\n",
    "    text1 = toLowerCase(message)#toLowerCase\n",
    "    text2 = removeURLs(text1)#removeURLs\n",
    "    text = removePunctuation(text2)#removePunctuation\n",
    "    \n",
    "    \n",
    "    \n",
    "    words = text.split()#split str \n",
    "    r = []#store final result\n",
    "    for w in words:\n",
    "        if w not in stopwords.words(\"english\"):#select words which are not in stopword.word\n",
    "            r.append(ps.stem(w))#stemming\n",
    "    message=' '.join(r)#combine str\n",
    "    \n",
    "\n",
    "\n",
    "    return message"
   ]
  },
  {
   "cell_type": "code",
   "execution_count": 19,
   "metadata": {},
   "outputs": [],
   "source": [
    "clean_data = []#clean data \n",
    "for message in data:\n",
    "    cm = clean_message(message)\n",
    "    clean_data.append(cm)\n",
    "    \n",
    "    "
   ]
  },
  {
   "cell_type": "markdown",
   "metadata": {
    "id": "bvRZUpmq-DmT"
   },
   "source": [
    "### Vectorize the articles (5 points)\n",
    "\n",
    "In this step, we will vectorize the text data. You can use TfidfVectorizer() or countVectorizer() from sklearn library."
   ]
  },
  {
   "cell_type": "code",
   "execution_count": 20,
   "metadata": {
    "id": "gJk8YY89-OU4"
   },
   "outputs": [],
   "source": [
    "from sklearn.feature_extraction.text import TfidfVectorizer\n",
    "vectorizer = TfidfVectorizer()\n",
    "X = vectorizer.fit_transform(clean_data)"
   ]
  },
  {
   "cell_type": "code",
   "execution_count": 21,
   "metadata": {
    "id": "DAIGlqEuINWA"
   },
   "outputs": [
    {
     "name": "stdout",
     "output_type": "stream",
     "text": [
      "(40, 1729)\n"
     ]
    }
   ],
   "source": [
    "print(X.shape)"
   ]
  },
  {
   "cell_type": "markdown",
   "metadata": {
    "id": "PKLvrKHRQaQq"
   },
   "source": [
    "### Sample Output:\n",
    "(36, 1552)"
   ]
  },
  {
   "cell_type": "markdown",
   "metadata": {
    "id": "M5ZrGrzD_G8d"
   },
   "source": [
    "### Plot Articles (10 points)\n",
    "Now we will try to verify the groups of articles using T-SNE from sklearn library."
   ]
  },
  {
   "cell_type": "code",
   "execution_count": 22,
   "metadata": {},
   "outputs": [],
   "source": [
    "TFIDFresult = pd.DataFrame(X.toarray(),columns=vectorizer.get_feature_names())#transform sparse matrix into dataframe"
   ]
  },
  {
   "cell_type": "code",
   "execution_count": 23,
   "metadata": {
    "id": "SjcuZBOe-oZq"
   },
   "outputs": [],
   "source": [
    "import numpy as np\n",
    "from sklearn.manifold import TSNE\n",
    "\n",
    "# call TSNE() to fit the data\n",
    "X_embedded = TSNE(n_components=2,\n",
    "                     init='random').fit_transform(TFIDFresult)# choose two dimension"
   ]
  },
  {
   "cell_type": "code",
   "execution_count": 24,
   "metadata": {},
   "outputs": [
    {
     "data": {
      "text/plain": [
       "array([ 1,  2,  3,  4,  5,  6,  7,  8,  9, 10, 11, 12, 13, 14, 15, 16, 17,\n",
       "       18, 19, 20, 21, 22, 23, 24, 25, 26, 27, 28, 29, 30, 31, 32, 33, 34,\n",
       "       35, 36, 37, 38, 39, 40])"
      ]
     },
     "execution_count": 24,
     "metadata": {},
     "output_type": "execute_result"
    }
   ],
   "source": [
    "np.arange(1,len(X_embedded)+1,1)"
   ]
  },
  {
   "cell_type": "markdown",
   "metadata": {
    "id": "iCY_blxjO1bs"
   },
   "source": [
    "Plot and annotate the points with different markers for different expected groups."
   ]
  },
  {
   "cell_type": "code",
   "execution_count": 25,
   "metadata": {
    "colab": {
     "base_uri": "https://localhost:8080/",
     "height": 483
    },
    "id": "3ODUA1Vf-rRd",
    "outputId": "325b5db4-60d1-4907-a487-40893e256ee1"
   },
   "outputs": [
    {
     "data": {
      "image/png": "[encoded data removed]",
      "text/plain": [
       "<Figure size 720x576 with 1 Axes>"
      ]
     },
     "metadata": {
      "needs_background": "light"
     },
     "output_type": "display_data"
    }
   ],
   "source": [
    "import matplotlib.pyplot as plt\n",
    "\n",
    "# get a figure handle\n",
    "fig,ax = plt.subplots(figsize=(10,8))\n",
    "v = ['b','r','g','y']#set colour for each topic\n",
    "colour = []\n",
    "p = 0\n",
    "#this for is to add colour for each topics' T_sne result\n",
    "for num in number_of_each_topic:\n",
    "    colour += v[p]*num\n",
    "    p += 1\n",
    "ax.scatter(X_embedded[0:,0],X_embedded[0:,1],c=colour)#use scatter to plot\n",
    "n = np.arange(1,len(X_embedded)+1,1)\n",
    "for i, txt in enumerate(n):#add number for each point\n",
    "    ax.annotate(txt, (X_embedded[i,0], X_embedded[i,1]))\n",
    "plt.show()   \n",
    "\n"
   ]
  },
  {
   "cell_type": "markdown",
   "metadata": {
    "id": "dYcEi1EC_UGO"
   },
   "source": [
    "**Question:** Comment about the categorizion done by T-SNE. Do the articles of related topics cluster together? (5 points)"
   ]
  },
  {
   "cell_type": "markdown",
   "metadata": {
    "id": "tde1Wu5HI6AA"
   },
   "source": [
    "**Answer(1-3 sentences):** I think I get a good result, each topic's T-sne result is in same area. The articles of related topics cluster together. But sometime result is not so good, some articles  of some related topics do not cluster together. You choose other topics and may get this reulst. I think this is because some topics similar with other topics, so the aritcles of these topics will culter with other topics. In addition,this is other possible reason. In fact, T-sne reduce data's dimension and cluster them in low dimension. In this question, I make these data become two dimension data, so maybe some articles of topics are close to other topics in this two dimension space and cluster with other topics.\n",
    "  \n"
   ]
  },
  {
   "cell_type": "markdown",
   "metadata": {
    "id": "U2xrJddIpSsd"
   },
   "source": [
    "# Question 3 Building Neural Networks\n",
    "\n",
    "### We are gonna use Emotions Dataset for this task. We need to classify the given text into different kind of emotions like happy,sad,anger etc.., \n",
    "\n",
    "### We are providing train.txt and val.txt files along with this notebook. "
   ]
  },
  {
   "cell_type": "markdown",
   "metadata": {
    "id": "NJYmVbkvphgX"
   },
   "source": [
    "### Library Imports and Utility functions"
   ]
  },
  {
   "cell_type": "code",
   "execution_count": 1,
   "metadata": {
    "id": "BO-HU-7uorVX"
   },
   "outputs": [
    {
     "name": "stderr",
     "output_type": "stream",
     "text": [
      "[nltk_data] Downloading package stopwords to\n",
      "[nltk_data]     C:\\Users\\54364\\AppData\\Roaming\\nltk_data...\n",
      "[nltk_data]   Package stopwords is already up-to-date!\n",
      "[nltk_data] Downloading package wordnet to\n",
      "[nltk_data]     C:\\Users\\54364\\AppData\\Roaming\\nltk_data...\n",
      "[nltk_data]   Package wordnet is already up-to-date!\n",
      "[nltk_data] Downloading package words to\n",
      "[nltk_data]     C:\\Users\\54364\\AppData\\Roaming\\nltk_data...\n",
      "[nltk_data]   Package words is already up-to-date!\n"
     ]
    }
   ],
   "source": [
    "from sklearn.feature_extraction.text import CountVectorizer\n",
    "from sklearn.feature_extraction.text import TfidfVectorizer\n",
    "import nltk\n",
    "from nltk.corpus import stopwords\n",
    "from nltk.stem import PorterStemmer\n",
    "from nltk.tokenize import word_tokenize\n",
    "import string\n",
    "import pandas as pd\n",
    "import re\n",
    "#string.punctuation\n",
    "import nltk\n",
    "nltk.download('stopwords')\n",
    "nltk.download('wordnet')\n",
    "nltk.download('words')\n",
    "\n",
    "stopword = nltk.corpus.stopwords.words('english')\n",
    "wn = nltk.WordNetLemmatizer()\n",
    "ps = nltk.PorterStemmer()\n",
    "words = set(nltk.corpus.words.words())\n",
    "\n",
    "\n",
    "def clean_text(text):\n",
    "  # From the last assignment\n",
    "    text = text.lower()\n",
    "    text = re.sub(r\"http\\S+\", \"\", text)\n",
    "    text = re.sub(r\"www.\\S+\", \"\", text)\n",
    "    text_links_removed = \"\".join([char for char in text if char not in string.punctuation])\n",
    "    text_cleaned = \" \".join([word for word in re.split('\\W+', text_links_removed)\n",
    "        if word not in stopword])\n",
    "    text = \" \".join([wn.lemmatize(word) for word in re.split('\\W+', text_cleaned)])\n",
    "    return text"
   ]
  },
  {
   "cell_type": "markdown",
   "metadata": {
    "id": "B0D5wVjZw7s0"
   },
   "source": [
    "### Q) Importing the datasets and do the necessary cleaning and convert the text into the vectors which are mentioned in the below code blocks. (10 points)"
   ]
  },
  {
   "cell_type": "code",
   "execution_count": 2,
   "metadata": {
    "id": "MOMhmIlGprK9"
   },
   "outputs": [
    {
     "name": "stdout",
     "output_type": "stream",
     "text": [
      "(16000, 2)\n",
      "(2000, 2)\n"
     ]
    }
   ],
   "source": [
    "# Import the train.txt and val.txt file into pandas dataframe format \n",
    "train_fd = pd.read_csv('train.txt', sep=\";\", header =None)\n",
    "test_fd = pd.read_csv('test.txt', sep=\";\", header =None)\n",
    "# train \n",
    "train =  train_fd\n",
    "# validation\n",
    "validation = test_fd\n",
    "# and printout the train.shape and validation.shape \n",
    "print(train.shape)\n",
    "print(validation.shape)\n",
    "# expected shape of train dataset is (16000,2) and validation dataset is (2000,2)"
   ]
  },
  {
   "cell_type": "code",
   "execution_count": 3,
   "metadata": {
    "id": "PS7K3p7AqAI8"
   },
   "outputs": [],
   "source": [
    "# clean the text in the train and validation dataframes using the clean_text function provided above\n",
    "for train_m in range(len(train)):\n",
    "    train[0][train_m] = clean_text(train[0][train_m])\n",
    "for test_m in range(len(validation)):\n",
    "    validation[0][test_m] = clean_text(validation[0][test_m])"
   ]
  },
  {
   "cell_type": "code",
   "execution_count": 4,
   "metadata": {
    "id": "GxZC6RIjq3bu"
   },
   "outputs": [],
   "source": [
    "# initialise count vectorizer from sklearn module with default parameter\n",
    "from sklearn.feature_extraction.text import CountVectorizer\n",
    "vectorizer = CountVectorizer()\n",
    "\n",
    "# fit on train dataset and transform both train and validation dataset\n",
    "vectorizer.fit(train[0])\n",
    "train_CV = vectorizer.transform(train[0])\n",
    "validation_CV = vectorizer.transform(validation[0])"
   ]
  },
  {
   "cell_type": "code",
   "execution_count": 5,
   "metadata": {
    "id": "85nuazEzq3YT"
   },
   "outputs": [],
   "source": [
    "# initialise tfidf vectorizer from sklearn module with default parameter\n",
    "v = TfidfVectorizer()\n",
    "# fit on train dataset and transform both train and validation dataset\n",
    "v.fit(train[0])\n",
    "train_tfidf = v.transform(train[0])\n",
    "validation_tfidf = v.transform(validation[0])"
   ]
  },
  {
   "cell_type": "code",
   "execution_count": 6,
   "metadata": {
    "id": "jgHWAuG-q3Vm"
   },
   "outputs": [],
   "source": [
    "# initialise label encoder from sklearn module\n",
    "from sklearn import preprocessing\n",
    "\n",
    "le = preprocessing.LabelEncoder()\n",
    "le.fit(['anger', 'fear', 'joy', 'love', 'sadness', 'surprise'])#we can find this lables from data, we should fit this labels first\n",
    "\n",
    "# fit on train labels and transform both train and validation labels\n",
    "train_labels = le.transform(train[1])\n",
    "validation_labels = le.transform(validation[1])"
   ]
  },
  {
   "cell_type": "code",
   "execution_count": 9,
   "metadata": {},
   "outputs": [],
   "source": [
    "t1 = np.array(train_labels)#transfrom into array"
   ]
  },
  {
   "cell_type": "code",
   "execution_count": 10,
   "metadata": {},
   "outputs": [],
   "source": [
    "t1 = t1.reshape(-1,1)#reshape"
   ]
  },
  {
   "cell_type": "code",
   "execution_count": 11,
   "metadata": {},
   "outputs": [
    {
     "data": {
      "text/plain": [
       "(16000, 1)"
      ]
     },
     "execution_count": 11,
     "metadata": {},
     "output_type": "execute_result"
    }
   ],
   "source": [
    "t1.shape"
   ]
  },
  {
   "cell_type": "code",
   "execution_count": 12,
   "metadata": {},
   "outputs": [],
   "source": [
    "t2=np.array(validation_labels).reshape(-1,1)#do same thing to validation labels"
   ]
  },
  {
   "cell_type": "code",
   "execution_count": 13,
   "metadata": {},
   "outputs": [
    {
     "data": {
      "text/plain": [
       "array([[4],\n",
       "       [4],\n",
       "       [0],\n",
       "       ...,\n",
       "       [2],\n",
       "       [0],\n",
       "       [4]])"
      ]
     },
     "execution_count": 13,
     "metadata": {},
     "output_type": "execute_result"
    }
   ],
   "source": [
    "t1"
   ]
  },
  {
   "cell_type": "code",
   "execution_count": 14,
   "metadata": {
    "id": "Wjdye0tvq3So"
   },
   "outputs": [],
   "source": [
    "# convert the labels into one hot encoding form\n",
    "from sklearn.preprocessing import OneHotEncoder\n",
    "train_one = OneHotEncoder(handle_unknown='ignore')\n",
    "train_one.fit(t1)\n",
    "TTT = train_one.transform(t1)#we can transform directly\n",
    "VVV= train_one.transform(t2)"
   ]
  },
  {
   "cell_type": "code",
   "execution_count": 15,
   "metadata": {},
   "outputs": [
    {
     "data": {
      "text/plain": [
       "array([[0., 0., 0., 0., 1., 0.],\n",
       "       [0., 0., 0., 0., 1., 0.],\n",
       "       [0., 0., 0., 0., 1., 0.],\n",
       "       ...,\n",
       "       [0., 0., 1., 0., 0., 0.],\n",
       "       [0., 0., 1., 0., 0., 0.],\n",
       "       [0., 1., 0., 0., 0., 0.]])"
      ]
     },
     "execution_count": 15,
     "metadata": {},
     "output_type": "execute_result"
    }
   ],
   "source": [
    "VVV.toarray()"
   ]
  },
  {
   "cell_type": "markdown",
   "metadata": {
    "id": "xjsiH8YOw-Da"
   },
   "source": [
    "### Q) Build the neural networks using tensorflow keras by following the below instructions. Evaluate the model on different metrics and comment your observations. (15 points)"
   ]
  },
  {
   "cell_type": "code",
   "execution_count": 16,
   "metadata": {
    "id": "AQg14bkTq3KB"
   },
   "outputs": [],
   "source": [
    "import tensorflow as tf\n",
    "from keras import regularizers\n",
    "tf.random.set_seed(42)\n",
    "\n",
    "\n",
    "# complete this linear model in tensorflow\n",
    "def build_model(X):\n",
    "    my_regularizer = regularizers.l2(0.)\n",
    "  # layer 1 : input layer\n",
    "    inp = tf.keras.Input((X.shape[1],))\n",
    "\n",
    "  # layer 2 : add the dense layer with 2048 units and relu activation\n",
    "    x2 = tf.keras.layers.Dense(2048,input_dim = X.shape[1], activation=tf.nn.relu)(inp)\n",
    "  # layer 3 : add the dropout layer with dropout rate of 0.5\n",
    "    x3 = tf.keras.layers.Dropout(.5)(x2)\n",
    "  # layer 4 : add the dense layer with 1024 units with tanh activation and with l2 regularization\n",
    "    x4 = tf.keras.layers.Dense(1024, activation=tf.nn.tanh,kernel_regularizer = my_regularizer)(x3)\n",
    "  # layer 5 : add the dropout layer with dropout rate of 0.5\n",
    "    x5 = tf.keras.layers.Dropout(.5)(x4)\n",
    "  # layer 6 : add the dense layer with 512 units with tanh activation and with l2 regularization\n",
    "    x6 = tf.keras.layers.Dense(512, activation=tf.nn.tanh, kernel_regularizer = my_regularizer)(x5)\n",
    "  # layer 7 : add the dropout layer with dropout rate of 0.5\n",
    "    x7 = tf.keras.layers.Dropout(.5)(x6)\n",
    "  # layer 8 : add the dense layer with 256 units with tanh activation and with l2 regularization\n",
    "    x8 = tf.keras.layers.Dense(256, activation=tf.nn.tanh, kernel_regularizer = my_regularizer)(x7)\n",
    "  # layer 9 : add the dropout layer with dropout rate of 0.5\n",
    "    x9 = tf.keras.layers.Dropout(.5)(x8)\n",
    "  # layer 10 : add the dense layer with 128 units with tanh activation and with l2 regularization\n",
    "    x10 = tf.keras.layers.Dense(128, activation=tf.nn.tanh, kernel_regularizer = my_regularizer)(x9)\n",
    "  # layer 11 : add the dropout layer with dropout rate of 0.5\n",
    "    x11 = tf.keras.layers.Dropout(.5)(x10)\n",
    "  # layer 12 : output layer with units equal to number of classes and activation as softmax\n",
    "    x12 = tf.keras.layers.Dense(6,activation=tf.nn.softmax)(x11)\n",
    "    model = tf.keras.Model(inputs=inp, outputs=x12)\n",
    "    print(x12,inp)\n",
    "  # use loss as categorical crossentropy, optimizer as rmsprop and evaluate model on auc,precision,recall,accuracy \n",
    "    model.compile(loss='categorical_crossentropy',\n",
    "              optimizer=tf.keras.optimizers.RMSprop(learning_rate=1e-03),\n",
    "              metrics=[\"AUC\",\"Precision\",\"Recall\",\"accuracy\"]) #[\"AUC\",\"Precision\",\"Recall\",\"Accuracy\"])\n",
    "    return model\n"
   ]
  },
  {
   "cell_type": "code",
   "execution_count": 17,
   "metadata": {
    "id": "Q71CC1pIsx0O"
   },
   "outputs": [
    {
     "name": "stdout",
     "output_type": "stream",
     "text": [
      "KerasTensor(type_spec=TensorSpec(shape=(None, 6), dtype=tf.float32, name=None), name='dense_5/Softmax:0', description=\"created by layer 'dense_5'\") KerasTensor(type_spec=TensorSpec(shape=(None, 13457), dtype=tf.float32, name='input_1'), name='input_1', description=\"created by layer 'input_1'\")\n"
     ]
    }
   ],
   "source": [
    "# call the build_model function and initialize the model\n",
    "model = build_model(train_CV.toarray())"
   ]
  },
  {
   "cell_type": "code",
   "execution_count": 18,
   "metadata": {},
   "outputs": [
    {
     "name": "stdout",
     "output_type": "stream",
     "text": [
      "Model: \"model\"\n",
      "_________________________________________________________________\n",
      "Layer (type)                 Output Shape              Param #   \n",
      "=================================================================\n",
      "input_1 (InputLayer)         [(None, 13457)]           0         \n",
      "_________________________________________________________________\n",
      "dense (Dense)                (None, 2048)              27561984  \n",
      "_________________________________________________________________\n",
      "dropout (Dropout)            (None, 2048)              0         \n",
      "_________________________________________________________________\n",
      "dense_1 (Dense)              (None, 1024)              2098176   \n",
      "_________________________________________________________________\n",
      "dropout_1 (Dropout)          (None, 1024)              0         \n",
      "_________________________________________________________________\n",
      "dense_2 (Dense)              (None, 512)               524800    \n",
      "_________________________________________________________________\n",
      "dropout_2 (Dropout)          (None, 512)               0         \n",
      "_________________________________________________________________\n",
      "dense_3 (Dense)              (None, 256)               131328    \n",
      "_________________________________________________________________\n",
      "dropout_3 (Dropout)          (None, 256)               0         \n",
      "_________________________________________________________________\n",
      "dense_4 (Dense)              (None, 128)               32896     \n",
      "_________________________________________________________________\n",
      "dropout_4 (Dropout)          (None, 128)               0         \n",
      "_________________________________________________________________\n",
      "dense_5 (Dense)              (None, 6)                 774       \n",
      "=================================================================\n",
      "Total params: 30,349,958\n",
      "Trainable params: 30,349,958\n",
      "Non-trainable params: 0\n",
      "_________________________________________________________________\n"
     ]
    }
   ],
   "source": [
    "model.summary()#this summary show my models' details"
   ]
  },
  {
   "cell_type": "code",
   "execution_count": 19,
   "metadata": {},
   "outputs": [
    {
     "data": {
      "text/plain": [
       "13457"
      ]
     },
     "execution_count": 19,
     "metadata": {},
     "output_type": "execute_result"
    }
   ],
   "source": [
    "len(validation_CV.toarray()[0])"
   ]
  },
  {
   "cell_type": "code",
   "execution_count": 20,
   "metadata": {},
   "outputs": [],
   "source": [
    "tt = validation_CV.toarray()"
   ]
  },
  {
   "cell_type": "code",
   "execution_count": 21,
   "metadata": {
    "id": "KyAZNgsBsxwo"
   },
   "outputs": [
    {
     "name": "stdout",
     "output_type": "stream",
     "text": [
      "Epoch 1/10\n",
      "500/500 [==============================] - 102s 200ms/step - loss: 1.3943 - auc: 0.7936 - precision: 0.5781 - recall: 0.3223 - accuracy: 0.4796 - val_loss: 0.4571 - val_auc: 0.9775 - val_precision: 0.8567 - val_recall: 0.8430 - val_accuracy: 0.8495\n",
      "Epoch 2/10\n",
      "500/500 [==============================] - 100s 200ms/step - loss: 0.3285 - auc: 0.9863 - precision: 0.9035 - recall: 0.8874 - accuracy: 0.8955 - val_loss: 0.3860 - val_auc: 0.9830 - val_precision: 0.8850 - val_recall: 0.8810 - val_accuracy: 0.8835\n",
      "Epoch 3/10\n",
      "500/500 [==============================] - 99s 198ms/step - loss: 0.1756 - auc: 0.9943 - precision: 0.9524 - recall: 0.9441 - accuracy: 0.9480 - val_loss: 0.3669 - val_auc: 0.9845 - val_precision: 0.8901 - val_recall: 0.8870 - val_accuracy: 0.8885\n",
      "Epoch 4/10\n",
      "500/500 [==============================] - 96s 192ms/step - loss: 0.1264 - auc: 0.9963 - precision: 0.9647 - recall: 0.9609 - accuracy: 0.9631 - val_loss: 0.4581 - val_auc: 0.9764 - val_precision: 0.8898 - val_recall: 0.8880 - val_accuracy: 0.8885\n",
      "Epoch 5/10\n",
      "500/500 [==============================] - 98s 196ms/step - loss: 0.0850 - auc: 0.9976 - precision: 0.9760 - recall: 0.9733 - accuracy: 0.9741 - val_loss: 0.4917 - val_auc: 0.9714 - val_precision: 0.8907 - val_recall: 0.8885 - val_accuracy: 0.8890\n",
      "Epoch 6/10\n",
      "500/500 [==============================] - 103s 205ms/step - loss: 0.0747 - auc: 0.9980 - precision: 0.9804 - recall: 0.9781 - accuracy: 0.9793 - val_loss: 0.5594 - val_auc: 0.9660 - val_precision: 0.8897 - val_recall: 0.8870 - val_accuracy: 0.8880\n",
      "Epoch 7/10\n",
      "500/500 [==============================] - 99s 197ms/step - loss: 0.0619 - auc: 0.9979 - precision: 0.9836 - recall: 0.9822 - accuracy: 0.9828 - val_loss: 0.5370 - val_auc: 0.9675 - val_precision: 0.8927 - val_recall: 0.8900 - val_accuracy: 0.8905\n",
      "Epoch 8/10\n",
      "500/500 [==============================] - 98s 196ms/step - loss: 0.0472 - auc: 0.9987 - precision: 0.9878 - recall: 0.9866 - accuracy: 0.9875 - val_loss: 0.5589 - val_auc: 0.9672 - val_precision: 0.8952 - val_recall: 0.8925 - val_accuracy: 0.8940\n",
      "Epoch 9/10\n",
      "500/500 [==============================] - 99s 199ms/step - loss: 0.0428 - auc: 0.9986 - precision: 0.9893 - recall: 0.9888 - accuracy: 0.9890 - val_loss: 0.6866 - val_auc: 0.9567 - val_precision: 0.8850 - val_recall: 0.8810 - val_accuracy: 0.8820\n",
      "Epoch 10/10\n",
      "500/500 [==============================] - 99s 198ms/step - loss: 0.0369 - auc: 0.9986 - precision: 0.9903 - recall: 0.9898 - accuracy: 0.9900 - val_loss: 0.7056 - val_auc: 0.9572 - val_precision: 0.8818 - val_recall: 0.8800 - val_accuracy: 0.8805\n"
     ]
    }
   ],
   "source": [
    "# train and validate the model on the count vectors of text which we have created initially for 10 epochs, \n",
    "# adjust batch size according to your computation power (suggestion use : 8)\n",
    "history1 = model.fit(train_CV.toarray(),TTT.toarray(), epochs=10,validation_data=(tt,VVV.toarray()))"
   ]
  },
  {
   "cell_type": "code",
   "execution_count": 23,
   "metadata": {
    "id": "nS02IwLCsxmG"
   },
   "outputs": [
    {
     "data": {
      "image/png": "[encoded data removed]",
      "text/plain": [
       "<Figure size 1440x1152 with 6 Axes>"
      ]
     },
     "metadata": {
      "needs_background": "light"
     },
     "output_type": "display_data"
    }
   ],
   "source": [
    "import matplotlib.pyplot as plt\n",
    "# plot train loss vs val loss, train auc vs val auc, train recall vs val recall, train precision vs val precision and train accuracy vs val accuracy and comment your observations\n",
    "fig, a = plt.subplots(2, 3,figsize=(20,16))\n",
    "\n",
    "a[0,0].plot(history1.history['loss'])\n",
    "a[0,0].plot(history1.history['val_loss'])\n",
    "a[0,0].set_title('model loss')\n",
    "a[0,0].set_ylabel('loss')\n",
    "a[0,0].set_xlabel('epoch')\n",
    "a[0,0].legend(['train', 'val'], loc='upper left')\n",
    "\n",
    "a[0,1].plot(history1.history['auc'])\n",
    "a[0,1].plot(history1.history['val_auc'])\n",
    "a[0,1].set_title('model auc')\n",
    "a[0,1].set_ylabel('auc')\n",
    "a[0,1].set_xlabel('epoch')\n",
    "a[0,1].legend(['train', 'val'], loc='upper left')\n",
    "\n",
    "a[1,0].plot(history1.history['precision'])\n",
    "a[1,0].plot(history1.history['val_precision'])\n",
    "a[1,0].set_title('model precision')\n",
    "a[1,0].set_ylabel('precision')\n",
    "a[1,0].set_xlabel('epoch')\n",
    "a[1,0].legend(['train', 'val'], loc='upper left')\n",
    "\n",
    "a[1,1].plot(history1.history['recall'])\n",
    "a[1,1].plot(history1.history['val_recall'])\n",
    "a[1,1].set_title('model recall')\n",
    "a[1,1].set_ylabel('recall')\n",
    "a[1,1].set_xlabel('epoch')\n",
    "a[1,1].legend(['train', 'val'], loc='upper left')\n",
    "\n",
    "a[1,2].plot(history1.history['accuracy'])\n",
    "a[1,2].plot(history1.history['val_accuracy'])\n",
    "a[1,2].set_title('model accuracy')\n",
    "a[1,2].set_ylabel('accuracy')\n",
    "a[1,2].set_xlabel('epoch')\n",
    "a[1,2].legend(['train', 'val'], loc='upper left')\n",
    "\n",
    "plt.show()"
   ]
  },
  {
   "cell_type": "code",
   "execution_count": 24,
   "metadata": {
    "id": "6FHdCcp7wXyw"
   },
   "outputs": [
    {
     "name": "stdout",
     "output_type": "stream",
     "text": [
      "KerasTensor(type_spec=TensorSpec(shape=(None, 6), dtype=tf.float32, name=None), name='dense_11/Softmax:0', description=\"created by layer 'dense_11'\") KerasTensor(type_spec=TensorSpec(shape=(None, 13457), dtype=tf.float32, name='input_2'), name='input_2', description=\"created by layer 'input_2'\")\n"
     ]
    }
   ],
   "source": [
    "# again call the build_model function and initialize the model\n",
    "model1 = build_model(train_tfidf.toarray())"
   ]
  },
  {
   "cell_type": "code",
   "execution_count": 25,
   "metadata": {},
   "outputs": [
    {
     "name": "stdout",
     "output_type": "stream",
     "text": [
      "Model: \"model_1\"\n",
      "_________________________________________________________________\n",
      "Layer (type)                 Output Shape              Param #   \n",
      "=================================================================\n",
      "input_2 (InputLayer)         [(None, 13457)]           0         \n",
      "_________________________________________________________________\n",
      "dense_6 (Dense)              (None, 2048)              27561984  \n",
      "_________________________________________________________________\n",
      "dropout_5 (Dropout)          (None, 2048)              0         \n",
      "_________________________________________________________________\n",
      "dense_7 (Dense)              (None, 1024)              2098176   \n",
      "_________________________________________________________________\n",
      "dropout_6 (Dropout)          (None, 1024)              0         \n",
      "_________________________________________________________________\n",
      "dense_8 (Dense)              (None, 512)               524800    \n",
      "_________________________________________________________________\n",
      "dropout_7 (Dropout)          (None, 512)               0         \n",
      "_________________________________________________________________\n",
      "dense_9 (Dense)              (None, 256)               131328    \n",
      "_________________________________________________________________\n",
      "dropout_8 (Dropout)          (None, 256)               0         \n",
      "_________________________________________________________________\n",
      "dense_10 (Dense)             (None, 128)               32896     \n",
      "_________________________________________________________________\n",
      "dropout_9 (Dropout)          (None, 128)               0         \n",
      "_________________________________________________________________\n",
      "dense_11 (Dense)             (None, 6)                 774       \n",
      "=================================================================\n",
      "Total params: 30,349,958\n",
      "Trainable params: 30,349,958\n",
      "Non-trainable params: 0\n",
      "_________________________________________________________________\n"
     ]
    }
   ],
   "source": [
    "model1.summary()"
   ]
  },
  {
   "cell_type": "code",
   "execution_count": 26,
   "metadata": {
    "id": "k4gB80M6wXvV"
   },
   "outputs": [
    {
     "name": "stdout",
     "output_type": "stream",
     "text": [
      "Epoch 1/10\n",
      "500/500 [==============================] - 102s 202ms/step - loss: 1.2641 - auc: 0.8226 - precision: 0.6508 - recall: 0.3334 - accuracy: 0.5071 - val_loss: 0.3452 - val_auc: 0.9866 - val_precision: 0.8823 - val_recall: 0.8620 - val_accuracy: 0.8690\n",
      "Epoch 2/10\n",
      "500/500 [==============================] - 100s 201ms/step - loss: 0.3028 - auc: 0.9880 - precision: 0.9112 - recall: 0.8928 - accuracy: 0.9020 - val_loss: 0.3797 - val_auc: 0.9834 - val_precision: 0.8881 - val_recall: 0.8850 - val_accuracy: 0.8860\n",
      "Epoch 3/10\n",
      "500/500 [==============================] - 100s 200ms/step - loss: 0.1776 - auc: 0.9942 - precision: 0.9482 - recall: 0.9424 - accuracy: 0.9454 - val_loss: 0.4223 - val_auc: 0.9815 - val_precision: 0.8849 - val_recall: 0.8800 - val_accuracy: 0.8805\n",
      "Epoch 4/10\n",
      "500/500 [==============================] - 100s 200ms/step - loss: 0.1282 - auc: 0.9961 - precision: 0.9648 - recall: 0.9622 - accuracy: 0.9640 - val_loss: 0.4329 - val_auc: 0.9771 - val_precision: 0.8884 - val_recall: 0.8840 - val_accuracy: 0.8870\n",
      "Epoch 5/10\n",
      "500/500 [==============================] - 97s 194ms/step - loss: 0.0867 - auc: 0.9975 - precision: 0.9768 - recall: 0.9747 - accuracy: 0.9762 - val_loss: 0.4475 - val_auc: 0.9779 - val_precision: 0.8919 - val_recall: 0.8865 - val_accuracy: 0.8900\n",
      "Epoch 6/10\n",
      "500/500 [==============================] - 93s 186ms/step - loss: 0.0688 - auc: 0.9980 - precision: 0.9827 - recall: 0.9808 - accuracy: 0.9819 - val_loss: 0.5807 - val_auc: 0.9659 - val_precision: 0.8846 - val_recall: 0.8815 - val_accuracy: 0.8825 0.9980 - precision: 0.9828 - rec\n",
      "Epoch 7/10\n",
      "500/500 [==============================] - 95s 190ms/step - loss: 0.0635 - auc: 0.9980 - precision: 0.9849 - recall: 0.9826 - accuracy: 0.9835 - val_loss: 0.5559 - val_auc: 0.9672 - val_precision: 0.8876 - val_recall: 0.8845 - val_accuracy: 0.8855\n",
      "Epoch 8/10\n",
      "500/500 [==============================] - 93s 186ms/step - loss: 0.0492 - auc: 0.9984 - precision: 0.9872 - recall: 0.9865 - accuracy: 0.9868 - val_loss: 0.5840 - val_auc: 0.9662 - val_precision: 0.8824 - val_recall: 0.8740 - val_accuracy: 0.8770\n",
      "Epoch 9/10\n",
      "500/500 [==============================] - 90s 180ms/step - loss: 0.0471 - auc: 0.9984 - precision: 0.9884 - recall: 0.9878 - accuracy: 0.9881 - val_loss: 0.7074 - val_auc: 0.9593 - val_precision: 0.8787 - val_recall: 0.8765 - val_accuracy: 0.8770\n",
      "Epoch 10/10\n",
      "500/500 [==============================] - 90s 180ms/step - loss: 0.0382 - auc: 0.9986 - precision: 0.9912 - recall: 0.9906 - accuracy: 0.9911 - val_loss: 0.6990 - val_auc: 0.9590 - val_precision: 0.8766 - val_recall: 0.8740 - val_accuracy: 0.8750\n"
     ]
    }
   ],
   "source": [
    "# train and validate the model on the tfidf vectors of text which we have created initially for 10 epochs, \n",
    "# adjust batch size according to your computation power (suggestion use : 8)\n",
    "history = model1.fit(train_tfidf.toarray(),TTT.toarray(), epochs=10,\n",
    "                    validation_data=(validation_tfidf.toarray(),VVV.toarray()))"
   ]
  },
  {
   "cell_type": "code",
   "execution_count": 27,
   "metadata": {},
   "outputs": [
    {
     "data": {
      "image/png": "[encoded data removed]",
      "text/plain": [
       "<Figure size 1440x1152 with 6 Axes>"
      ]
     },
     "metadata": {
      "needs_background": "light"
     },
     "output_type": "display_data"
    }
   ],
   "source": [
    "# plot train loss vs val loss, train auc vs val auc, train recall vs val recall, train precision vs val precision and train accuracy vs val accuracy and comment your observations\n",
    "from matplotlib import pyplot as plt\n",
    "#fig,ax = plt.subplots(figsize=(10,8))\n",
    "fig, axs = plt.subplots(2, 3,figsize=(20,16))\n",
    "\n",
    "axs[0,0].plot(history.history['loss'])\n",
    "axs[0,0].plot(history.history['val_loss'])\n",
    "axs[0,0].set_title('model loss')\n",
    "axs[0,0].set_ylabel('loss')\n",
    "axs[0,0].set_xlabel('epoch')\n",
    "axs[0,0].legend(['train', 'val'], loc='upper left')\n",
    "\n",
    "axs[0,1].plot(history.history['auc'])\n",
    "axs[0,1].plot(history.history['val_auc'])\n",
    "axs[0,1].set_title('model auc')\n",
    "axs[0,1].set_ylabel('auc')\n",
    "axs[0,1].set_xlabel('epoch')\n",
    "axs[0,1].legend(['train', 'val'], loc='upper left')\n",
    "\n",
    "axs[1,0].plot(history.history['precision'])\n",
    "axs[1,0].plot(history.history['val_precision'])\n",
    "axs[1,0].set_title('model precision')\n",
    "axs[1,0].set_ylabel('precision')\n",
    "axs[1,0].set_xlabel('epoch')\n",
    "axs[1,0].legend(['train', 'val'], loc='upper left')\n",
    "\n",
    "axs[1,1].plot(history.history['recall'])\n",
    "axs[1,1].plot(history.history['val_recall'])\n",
    "axs[1,1].set_title('model recall')\n",
    "axs[1,1].set_ylabel('recall')\n",
    "axs[1,1].set_xlabel('epoch')\n",
    "axs[1,1].legend(['train', 'val'], loc='upper left')\n",
    "\n",
    "axs[1,2].plot(history.history['accuracy'])\n",
    "axs[1,2].plot(history.history['val_accuracy'])\n",
    "axs[1,2].set_title('model accuracy')\n",
    "axs[1,2].set_ylabel('accuracy')\n",
    "axs[1,2].set_xlabel('epoch')\n",
    "axs[1,2].legend(['train', 'val'], loc='upper left')\n",
    "\n",
    "plt.show()"
   ]
  },
  {
   "cell_type": "markdown",
   "metadata": {},
   "source": [
    "# We get  good results from every metrics. When we use countvectorize, we fianlly get loss: 0.0369 - auc: 0.9986 - precision: 0.9903 - recall: 0.9898 - accuracy: 0.9900 - val_loss: 0.7056 - val_auc: 0.9572 - val_precision: 0.8818 - val_recall: 0.8800 - val_accuracy: 0.8805. And when we use tfidf, we finally get 180ms/step - loss: 0.0382 - auc: 0.9986 - precision: 0.9912 - recall: 0.9906 - accuracy: 0.9911 - val_loss: 0.6990 - val_auc: 0.9590 - val_precision: 0.8766 - val_recall: 0.8740 - val_accuracy: 0.8750. Compare these two inputs, I think there are not big different. And countvectorize get better result in validation set and tfidf get better result in train set.  We can see that as the epoch increase our training set is getting better in each metric, but the corresponding metrics in the validation set are decreasing a lot(acu) or  decreasing a little(precision, recall, accuracy).In addition, the loss of validation set become larger. This indicates that my model is overfitting. I think I should add more the dropout layer"
   ]
  },
  {
   "cell_type": "markdown",
   "metadata": {
    "id": "4adDDQWeQyGb"
   },
   "source": [
    "## Question 4 Theory Question  \n",
    "\n",
    "What is the difference between Count Vectorizer, TFIDF, Word2Vec and Glove? (5 points)"
   ]
  },
  {
   "cell_type": "markdown",
   "metadata": {
    "id": "cXTRkF6KRB_D"
   },
   "source": [
    "**Answer:** To Count Vectorizer, it only count the number of times a word appears in the document. To TFIDF,it not only focuses on the frequency of words present in the corpus but also provides the importance of the words and give weight. Compare to Count Vectorizer and TFIDF, Word2Vec and Glove are both unsupervised models for generating word vectors. To Word2Vec, it can be seen as a model that improves its ability to predict (target word | context words), and GloVe is modeled to do dimensionality reduction. This reduction is on the co-occurrence counts matrix [minimizing a loss - the reconstruction loss]. Reconstruction loss tries to find the lower-dimensional representations."
   ]
  },
  {
   "cell_type": "markdown",
   "metadata": {
    "id": "yQQsqcto79zE"
   },
   "source": [
    "What is the significant difference between the Niave Bayes Implementation using Bag of Words and TF-IDF? (5 points)"
   ]
  },
  {
   "cell_type": "markdown",
   "metadata": {
    "id": "JtiPCTZM8Aua"
   },
   "source": [
    "**Answer:**Bag of Words just creates a set of vectors containing the count of word occurrences in the document (reviews), while the TF-IDF model contains information on the more important words and the less important ones as well. Thus, when we use the Niave Bayes, TF-IDF can make some important words whose the count of the occurrences in the document is low have more probability than the probability of these words from Bag of Words. "
   ]
  },
  {
   "cell_type": "code",
   "execution_count": null,
   "metadata": {
    "id": "OaXBo1Bw8C1K"
   },
   "outputs": [],
   "source": []
  }
 ],
 "metadata": {
  "colab": {
   "collapsed_sections": [],
   "name": "CS6120_NLP_Assignment_2_Notebook",
   "provenance": []
  },
  "kernelspec": {
   "display_name": "Python 3",
   "language": "python",
   "name": "python3"
  },
  "language_info": {
   "codemirror_mode": {
    "name": "ipython",
    "version": 3
   },
   "file_extension": ".py",
   "mimetype": "text/x-python",
   "name": "python",
   "nbconvert_exporter": "python",
   "pygments_lexer": "ipython3",
   "version": "3.8.5"
  }
 },
 "nbformat": 4,
 "nbformat_minor": 1
}
